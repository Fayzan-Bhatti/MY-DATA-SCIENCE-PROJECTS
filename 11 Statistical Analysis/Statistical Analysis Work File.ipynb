{
 "cells": [
  {
   "cell_type": "markdown",
   "metadata": {},
   "source": [
    "# We are moving data science part \n",
    "* we study state in this session\n",
    "* we have wnba women national bassketboll associastion"
   ]
  },
  {
   "cell_type": "code",
   "execution_count": 1,
   "metadata": {},
   "outputs": [],
   "source": [
    "import numpy as np\n",
    "import pandas as pd\n",
    "import matplotlib.pyplot as plt\n"
   ]
  },
  {
   "cell_type": "markdown",
   "metadata": {},
   "source": [
    "# population"
   ]
  },
  {
   "cell_type": "markdown",
   "metadata": {},
   "source": [
    "* In statistics, a population is the pool of individuals from which a statistical sample is drawn for a study. \n",
    "* Thus, any selection of individuals grouped together by a common feature can be said to be a population.\n",
    "\n",
    "* mean all individual which are relatted to some statistics question, if i am research on tiger then 1 way is i coleect all tigers and do research but difficult taks so, we collect sample from population\n",
    "\n",
    "* part of population is called sample\n",
    "* we try to work on population bbut it is difficult way so we try to get such sample that represented the population\n"
   ]
  },
  {
   "cell_type": "code",
   "execution_count": 2,
   "metadata": {},
   "outputs": [
    {
     "data": {
      "text/html": [
       "<div>\n",
       "<style scoped>\n",
       "    .dataframe tbody tr th:only-of-type {\n",
       "        vertical-align: middle;\n",
       "    }\n",
       "\n",
       "    .dataframe tbody tr th {\n",
       "        vertical-align: top;\n",
       "    }\n",
       "\n",
       "    .dataframe thead th {\n",
       "        text-align: right;\n",
       "    }\n",
       "</style>\n",
       "<table border=\"1\" class=\"dataframe\">\n",
       "  <thead>\n",
       "    <tr style=\"text-align: right;\">\n",
       "      <th></th>\n",
       "      <th>Name</th>\n",
       "      <th>Team</th>\n",
       "      <th>Pos</th>\n",
       "      <th>Height</th>\n",
       "      <th>Weight</th>\n",
       "      <th>BMI</th>\n",
       "      <th>Birth_Place</th>\n",
       "      <th>Birthdate</th>\n",
       "      <th>Age</th>\n",
       "      <th>College</th>\n",
       "      <th>...</th>\n",
       "      <th>OREB</th>\n",
       "      <th>DREB</th>\n",
       "      <th>REB</th>\n",
       "      <th>AST</th>\n",
       "      <th>STL</th>\n",
       "      <th>BLK</th>\n",
       "      <th>TO</th>\n",
       "      <th>PTS</th>\n",
       "      <th>DD2</th>\n",
       "      <th>TD3</th>\n",
       "    </tr>\n",
       "  </thead>\n",
       "  <tbody>\n",
       "    <tr>\n",
       "      <th>0</th>\n",
       "      <td>Aerial Powers</td>\n",
       "      <td>DAL</td>\n",
       "      <td>F</td>\n",
       "      <td>183</td>\n",
       "      <td>71.0</td>\n",
       "      <td>21.200991</td>\n",
       "      <td>US</td>\n",
       "      <td>January 17, 1994</td>\n",
       "      <td>23</td>\n",
       "      <td>Michigan State</td>\n",
       "      <td>...</td>\n",
       "      <td>6</td>\n",
       "      <td>22</td>\n",
       "      <td>28</td>\n",
       "      <td>12</td>\n",
       "      <td>3</td>\n",
       "      <td>6</td>\n",
       "      <td>12</td>\n",
       "      <td>93</td>\n",
       "      <td>0</td>\n",
       "      <td>0</td>\n",
       "    </tr>\n",
       "    <tr>\n",
       "      <th>1</th>\n",
       "      <td>Alana Beard</td>\n",
       "      <td>LA</td>\n",
       "      <td>G/F</td>\n",
       "      <td>185</td>\n",
       "      <td>73.0</td>\n",
       "      <td>21.329438</td>\n",
       "      <td>US</td>\n",
       "      <td>May 14, 1982</td>\n",
       "      <td>35</td>\n",
       "      <td>Duke</td>\n",
       "      <td>...</td>\n",
       "      <td>19</td>\n",
       "      <td>82</td>\n",
       "      <td>101</td>\n",
       "      <td>72</td>\n",
       "      <td>63</td>\n",
       "      <td>13</td>\n",
       "      <td>40</td>\n",
       "      <td>217</td>\n",
       "      <td>0</td>\n",
       "      <td>0</td>\n",
       "    </tr>\n",
       "    <tr>\n",
       "      <th>2</th>\n",
       "      <td>Alex Bentley</td>\n",
       "      <td>CON</td>\n",
       "      <td>G</td>\n",
       "      <td>170</td>\n",
       "      <td>69.0</td>\n",
       "      <td>23.875433</td>\n",
       "      <td>US</td>\n",
       "      <td>October 27, 1990</td>\n",
       "      <td>26</td>\n",
       "      <td>Penn State</td>\n",
       "      <td>...</td>\n",
       "      <td>4</td>\n",
       "      <td>36</td>\n",
       "      <td>40</td>\n",
       "      <td>78</td>\n",
       "      <td>22</td>\n",
       "      <td>3</td>\n",
       "      <td>24</td>\n",
       "      <td>218</td>\n",
       "      <td>0</td>\n",
       "      <td>0</td>\n",
       "    </tr>\n",
       "    <tr>\n",
       "      <th>3</th>\n",
       "      <td>Alex Montgomery</td>\n",
       "      <td>SAN</td>\n",
       "      <td>G/F</td>\n",
       "      <td>185</td>\n",
       "      <td>84.0</td>\n",
       "      <td>24.543462</td>\n",
       "      <td>US</td>\n",
       "      <td>December 11, 1988</td>\n",
       "      <td>28</td>\n",
       "      <td>Georgia Tech</td>\n",
       "      <td>...</td>\n",
       "      <td>35</td>\n",
       "      <td>134</td>\n",
       "      <td>169</td>\n",
       "      <td>65</td>\n",
       "      <td>20</td>\n",
       "      <td>10</td>\n",
       "      <td>38</td>\n",
       "      <td>188</td>\n",
       "      <td>2</td>\n",
       "      <td>0</td>\n",
       "    </tr>\n",
       "    <tr>\n",
       "      <th>4</th>\n",
       "      <td>Alexis Jones</td>\n",
       "      <td>MIN</td>\n",
       "      <td>G</td>\n",
       "      <td>175</td>\n",
       "      <td>78.0</td>\n",
       "      <td>25.469388</td>\n",
       "      <td>US</td>\n",
       "      <td>August 5, 1994</td>\n",
       "      <td>23</td>\n",
       "      <td>Baylor</td>\n",
       "      <td>...</td>\n",
       "      <td>3</td>\n",
       "      <td>9</td>\n",
       "      <td>12</td>\n",
       "      <td>12</td>\n",
       "      <td>7</td>\n",
       "      <td>0</td>\n",
       "      <td>14</td>\n",
       "      <td>50</td>\n",
       "      <td>0</td>\n",
       "      <td>0</td>\n",
       "    </tr>\n",
       "  </tbody>\n",
       "</table>\n",
       "<p>5 rows × 32 columns</p>\n",
       "</div>"
      ],
      "text/plain": [
       "              Name Team  Pos  Height  Weight        BMI Birth_Place  \\\n",
       "0    Aerial Powers  DAL    F     183    71.0  21.200991          US   \n",
       "1      Alana Beard   LA  G/F     185    73.0  21.329438          US   \n",
       "2     Alex Bentley  CON    G     170    69.0  23.875433          US   \n",
       "3  Alex Montgomery  SAN  G/F     185    84.0  24.543462          US   \n",
       "4     Alexis Jones  MIN    G     175    78.0  25.469388          US   \n",
       "\n",
       "           Birthdate  Age         College  ... OREB  DREB  REB  AST  STL  BLK  \\\n",
       "0   January 17, 1994   23  Michigan State  ...    6    22   28   12    3    6   \n",
       "1       May 14, 1982   35            Duke  ...   19    82  101   72   63   13   \n",
       "2   October 27, 1990   26      Penn State  ...    4    36   40   78   22    3   \n",
       "3  December 11, 1988   28    Georgia Tech  ...   35   134  169   65   20   10   \n",
       "4     August 5, 1994   23          Baylor  ...    3     9   12   12    7    0   \n",
       "\n",
       "   TO  PTS  DD2  TD3  \n",
       "0  12   93    0    0  \n",
       "1  40  217    0    0  \n",
       "2  24  218    0    0  \n",
       "3  38  188    2    0  \n",
       "4  14   50    0    0  \n",
       "\n",
       "[5 rows x 32 columns]"
      ]
     },
     "execution_count": 2,
     "metadata": {},
     "output_type": "execute_result"
    }
   ],
   "source": [
    "wnba=pd.read_csv(\"wnba.csv\")\n",
    "wnba.head()"
   ]
  },
  {
   "cell_type": "code",
   "execution_count": 3,
   "metadata": {},
   "outputs": [
    {
     "data": {
      "text/plain": [
       "Index(['Name', 'Team', 'Pos', 'Height', 'Weight', 'BMI', 'Birth_Place',\n",
       "       'Birthdate', 'Age', 'College', 'Experience', 'Games Played', 'MIN',\n",
       "       'FGM', 'FGA', 'FG%', '15:00', '3PA', '3P%', 'FTM', 'FTA', 'FT%', 'OREB',\n",
       "       'DREB', 'REB', 'AST', 'STL', 'BLK', 'TO', 'PTS', 'DD2', 'TD3'],\n",
       "      dtype='object')"
      ]
     },
     "execution_count": 3,
     "metadata": {},
     "output_type": "execute_result"
    }
   ],
   "source": [
    "wnba.columns"
   ]
  },
  {
   "cell_type": "code",
   "execution_count": 4,
   "metadata": {},
   "outputs": [
    {
     "data": {
      "text/plain": [
       "0       8\n",
       "1      30\n",
       "2      26\n",
       "3      31\n",
       "4      24\n",
       "       ..\n",
       "138    29\n",
       "139    22\n",
       "140    27\n",
       "141    29\n",
       "142    30\n",
       "Name: Games Played, Length: 143, dtype: int64"
      ]
     },
     "execution_count": 4,
     "metadata": {},
     "output_type": "execute_result"
    }
   ],
   "source": [
    "wnba[\"Games Played\"]"
   ]
  },
  {
   "cell_type": "code",
   "execution_count": 5,
   "metadata": {},
   "outputs": [
    {
     "data": {
      "text/plain": [
       "32"
      ]
     },
     "execution_count": 5,
     "metadata": {},
     "output_type": "execute_result"
    }
   ],
   "source": [
    "parameter=wnba[\"Games Played\"].max()\n",
    "parameter"
   ]
  },
  {
   "cell_type": "markdown",
   "metadata": {},
   "source": [
    "* when we calculate the matrix on population then it is called parameter and when we calculate matric on sample the it is called statics , matrix can be mean , meadian , mode\n",
    "\n",
    "* we have method of sample in series"
   ]
  },
  {
   "cell_type": "code",
   "execution_count": 6,
   "metadata": {},
   "outputs": [
    {
     "data": {
      "text/plain": [
       "(143,)"
      ]
     },
     "execution_count": 6,
     "metadata": {},
     "output_type": "execute_result"
    }
   ],
   "source": [
    "wnba[\"Games Played\"].shape\n",
    "#we have 143 row "
   ]
  },
  {
   "cell_type": "code",
   "execution_count": 7,
   "metadata": {},
   "outputs": [],
   "source": [
    "sample=wnba[\"Games Played\"].sample(10)\n",
    "#we get sample but this procedure is sampling"
   ]
  },
  {
   "cell_type": "code",
   "execution_count": 8,
   "metadata": {
    "scrolled": true
   },
   "outputs": [
    {
     "data": {
      "text/plain": [
       "60     28\n",
       "70     23\n",
       "37     22\n",
       "68     29\n",
       "48     18\n",
       "140    27\n",
       "69     29\n",
       "57     29\n",
       "107    26\n",
       "8      30\n",
       "Name: Games Played, dtype: int64"
      ]
     },
     "execution_count": 8,
     "metadata": {},
     "output_type": "execute_result"
    }
   ],
   "source": [
    "sample\n",
    "#this is random sample, to avoid bise, left side is index and right right their values"
   ]
  },
  {
   "cell_type": "code",
   "execution_count": 9,
   "metadata": {},
   "outputs": [
    {
     "data": {
      "text/plain": [
       "8      30\n",
       "37     22\n",
       "48     18\n",
       "57     29\n",
       "60     28\n",
       "68     29\n",
       "69     29\n",
       "70     23\n",
       "107    26\n",
       "140    27\n",
       "Name: Games Played, dtype: int64"
      ]
     },
     "execution_count": 9,
     "metadata": {},
     "output_type": "execute_result"
    }
   ],
   "source": [
    "sample.sort_index()"
   ]
  },
  {
   "cell_type": "code",
   "execution_count": 10,
   "metadata": {
    "scrolled": true
   },
   "outputs": [
    {
     "data": {
      "text/plain": [
       "0     8\n",
       "1    30\n",
       "2    26\n",
       "3    31\n",
       "4    24\n",
       "Name: Games Played, dtype: int64"
      ]
     },
     "execution_count": 10,
     "metadata": {},
     "output_type": "execute_result"
    }
   ],
   "source": [
    "wnba[\"Games Played\"].head()\n",
    "#this is not sample"
   ]
  },
  {
   "cell_type": "markdown",
   "metadata": {},
   "source": [
    "# now we  can apply matrix on sample"
   ]
  },
  {
   "cell_type": "code",
   "execution_count": 11,
   "metadata": {},
   "outputs": [],
   "source": [
    "statistic=sample.max()\n",
    "#sample is our population data representation"
   ]
  },
  {
   "cell_type": "code",
   "execution_count": 12,
   "metadata": {},
   "outputs": [
    {
     "data": {
      "text/plain": [
       "30"
      ]
     },
     "execution_count": 12,
     "metadata": {},
     "output_type": "execute_result"
    }
   ],
   "source": [
    "statistic"
   ]
  },
  {
   "cell_type": "markdown",
   "metadata": {},
   "source": [
    "* if we take sample and find the decision about population this procedure is called inferacail statistics and for this our data should be sample represention \n",
    "\n",
    "* above is simple random techinque and the issue is in simple random techinque moslty data is not represent the population, for solution we use dif tenhinques"
   ]
  },
  {
   "cell_type": "markdown",
   "metadata": {},
   "source": [
    "# we can use random state tofix the data\n",
    "* can pass any value in ot"
   ]
  },
  {
   "cell_type": "code",
   "execution_count": 13,
   "metadata": {},
   "outputs": [],
   "source": [
    "sample=wnba[\"Games Played\"].sample(10,random_state=4)\n",
    "#we fix the state, but issue is, it is not best for short data "
   ]
  },
  {
   "cell_type": "code",
   "execution_count": 14,
   "metadata": {},
   "outputs": [
    {
     "data": {
      "text/plain": [
       "12     25\n",
       "64     10\n",
       "41     18\n",
       "11     28\n",
       "5      14\n",
       "96     17\n",
       "111    29\n",
       "118    24\n",
       "19     29\n",
       "2      26\n",
       "Name: Games Played, dtype: int64"
      ]
     },
     "execution_count": 14,
     "metadata": {},
     "output_type": "execute_result"
    }
   ],
   "source": [
    "sample"
   ]
  },
  {
   "cell_type": "markdown",
   "metadata": {},
   "source": [
    "# sampleing error\n",
    "* is the error in between population and sample is called sample error\n",
    "* sampling_error=parameter-statistics\n",
    "* is the dif in population and sample we need to minimized it"
   ]
  },
  {
   "cell_type": "code",
   "execution_count": 15,
   "metadata": {},
   "outputs": [
    {
     "data": {
      "text/plain": [
       "2"
      ]
     },
     "execution_count": 15,
     "metadata": {},
     "output_type": "execute_result"
    }
   ],
   "source": [
    "sampling_error=parameter-statistic\n",
    "sampling_error\n",
    "#this also the data representation , max error mean it is not respresention"
   ]
  },
  {
   "cell_type": "markdown",
   "metadata": {},
   "source": [
    "# find population mean = parameter"
   ]
  },
  {
   "cell_type": "code",
   "execution_count": 16,
   "metadata": {},
   "outputs": [
    {
     "data": {
      "text/plain": [
       "24.356643356643357"
      ]
     },
     "execution_count": 16,
     "metadata": {},
     "output_type": "execute_result"
    }
   ],
   "source": [
    "pop_mean=wnba[\"Games Played\"].mean()\n",
    "pop_mean\n"
   ]
  },
  {
   "cell_type": "markdown",
   "metadata": {},
   "source": [
    "# find sample mean = statistic , sample size 10"
   ]
  },
  {
   "cell_type": "code",
   "execution_count": 17,
   "metadata": {},
   "outputs": [],
   "source": [
    "sample_mean=[]\n",
    "for i in range(100):\n",
    "    sample=wnba[\"Games Played\"].sample(10,random_state=i) # so that state change evry time\n",
    "    mean=sample.mean()\n",
    "    sample_mean.append(mean)"
   ]
  },
  {
   "cell_type": "code",
   "execution_count": 18,
   "metadata": {},
   "outputs": [
    {
     "data": {
      "text/plain": [
       "[21.7,\n",
       " 21.3,\n",
       " 22.7,\n",
       " 25.2,\n",
       " 22.0,\n",
       " 23.8,\n",
       " 26.3,\n",
       " 22.1,\n",
       " 26.2,\n",
       " 23.7,\n",
       " 25.4,\n",
       " 25.7,\n",
       " 24.5,\n",
       " 26.5,\n",
       " 24.3,\n",
       " 23.8,\n",
       " 20.9,\n",
       " 28.2,\n",
       " 22.3,\n",
       " 25.4,\n",
       " 19.5,\n",
       " 27.1,\n",
       " 25.1,\n",
       " 24.5,\n",
       " 24.5,\n",
       " 22.1,\n",
       " 24.6,\n",
       " 21.1,\n",
       " 17.6,\n",
       " 27.4,\n",
       " 24.7,\n",
       " 24.4,\n",
       " 24.9,\n",
       " 18.9,\n",
       " 24.5,\n",
       " 24.9,\n",
       " 21.6,\n",
       " 25.1,\n",
       " 25.6,\n",
       " 22.0,\n",
       " 25.2,\n",
       " 25.0,\n",
       " 21.5,\n",
       " 24.3,\n",
       " 23.4,\n",
       " 19.2,\n",
       " 25.6,\n",
       " 25.9,\n",
       " 24.5,\n",
       " 25.0,\n",
       " 25.4,\n",
       " 25.6,\n",
       " 27.7,\n",
       " 24.0,\n",
       " 24.5,\n",
       " 23.9,\n",
       " 23.1,\n",
       " 23.4,\n",
       " 24.1,\n",
       " 27.3,\n",
       " 22.7,\n",
       " 23.9,\n",
       " 21.7,\n",
       " 27.2,\n",
       " 19.3,\n",
       " 22.1,\n",
       " 23.3,\n",
       " 24.9,\n",
       " 24.2,\n",
       " 26.8,\n",
       " 21.3,\n",
       " 26.2,\n",
       " 21.2,\n",
       " 22.7,\n",
       " 24.0,\n",
       " 26.6,\n",
       " 24.7,\n",
       " 22.2,\n",
       " 26.5,\n",
       " 20.9,\n",
       " 22.4,\n",
       " 23.2,\n",
       " 25.7,\n",
       " 25.0,\n",
       " 25.4,\n",
       " 25.1,\n",
       " 21.8,\n",
       " 22.6,\n",
       " 22.4,\n",
       " 22.6,\n",
       " 24.3,\n",
       " 24.6,\n",
       " 19.9,\n",
       " 28.9,\n",
       " 25.8,\n",
       " 24.0,\n",
       " 24.0,\n",
       " 22.9,\n",
       " 23.5,\n",
       " 20.0]"
      ]
     },
     "execution_count": 18,
     "metadata": {},
     "output_type": "execute_result"
    }
   ],
   "source": [
    "sample_mean"
   ]
  },
  {
   "cell_type": "markdown",
   "metadata": {},
   "source": [
    "# scator graph"
   ]
  },
  {
   "cell_type": "code",
   "execution_count": 19,
   "metadata": {},
   "outputs": [
    {
     "data": {
      "text/plain": [
       "<matplotlib.collections.PathCollection at 0x1f3a4784f70>"
      ]
     },
     "execution_count": 19,
     "metadata": {},
     "output_type": "execute_result"
    },
    {
     "data": {
      "image/png": "[encoded data removed]",
      "text/plain": [
       "<Figure size 432x288 with 1 Axes>"
      ]
     },
     "metadata": {
      "needs_background": "light"
     },
     "output_type": "display_data"
    }
   ],
   "source": [
    "plt.scatter(range(1,101),sample_mean)\n",
    "#to show the horizontle line for population mean"
   ]
  },
  {
   "cell_type": "code",
   "execution_count": 20,
   "metadata": {},
   "outputs": [
    {
     "data": {
      "image/png": "[encoded data removed]",
      "text/plain": [
       "<Figure size 432x288 with 1 Axes>"
      ]
     },
     "metadata": {
      "needs_background": "light"
     },
     "output_type": "display_data"
    }
   ],
   "source": [
    "plt.scatter(range(1,101),sample_mean)\n",
    "plt.axhline(pop_mean)\n",
    "plt.show()"
   ]
  },
  {
   "cell_type": "markdown",
   "metadata": {},
   "source": [
    "* mostly data is not representive, some mean is representive ,\n",
    "* when sample_error comes and we used simple random techinque then we need to avoid it by increasing our sample data"
   ]
  },
  {
   "cell_type": "markdown",
   "metadata": {},
   "source": [
    "# All population"
   ]
  },
  {
   "cell_type": "code",
   "execution_count": 21,
   "metadata": {},
   "outputs": [
    {
     "data": {
      "image/png": "[encoded data removed]",
      "text/plain": [
       "<Figure size 432x288 with 1 Axes>"
      ]
     },
     "metadata": {
      "needs_background": "light"
     },
     "output_type": "display_data"
    }
   ],
   "source": [
    "sample_mean=[]\n",
    "for i in range(100):\n",
    "    sample=wnba[\"Games Played\"].sample(143,random_state=i) #we take all population\n",
    "    mean=sample.mean()\n",
    "    sample_mean.append(mean)\n",
    "plt.scatter(range(1,101),sample_mean)\n",
    "plt.axhline(pop_mean)\n",
    "plt.show()"
   ]
  },
  {
   "cell_type": "markdown",
   "metadata": {},
   "source": [
    "# incease our sample "
   ]
  },
  {
   "cell_type": "code",
   "execution_count": 22,
   "metadata": {},
   "outputs": [
    {
     "data": {
      "image/png": "[encoded data removed]",
      "text/plain": [
       "<Figure size 432x288 with 1 Axes>"
      ]
     },
     "metadata": {
      "needs_background": "light"
     },
     "output_type": "display_data"
    }
   ],
   "source": [
    "sample_mean=[]\n",
    "for i in range(200):\n",
    "    sample=wnba[\"Games Played\"].sample(20,random_state=i) # so that state change evry time\n",
    "    mean=sample.mean()\n",
    "    sample_mean.append(mean)\n",
    "plt.scatter(range(1,201),sample_mean)\n",
    "plt.axhline(pop_mean)\n",
    "plt.show()"
   ]
  },
  {
   "cell_type": "markdown",
   "metadata": {},
   "source": [
    "# points colum, to find who make the  max poits"
   ]
  },
  {
   "cell_type": "code",
   "execution_count": 23,
   "metadata": {},
   "outputs": [
    {
     "data": {
      "text/plain": [
       "201.7902097902098"
      ]
     },
     "execution_count": 23,
     "metadata": {},
     "output_type": "execute_result"
    }
   ],
   "source": [
    "wnba[\"PTS\"].mean()"
   ]
  },
  {
   "cell_type": "markdown",
   "metadata": {},
   "source": [
    "# stratified sampling techique \n",
    "* in above case \n",
    "* this may the points who play more game  and more points , data represention can be wrong in rondom sample techinique\n",
    "* when our data is diverse the rondam techinque not works\n"
   ]
  },
  {
   "cell_type": "code",
   "execution_count": 24,
   "metadata": {},
   "outputs": [
    {
     "data": {
      "text/plain": [
       "29    30\n",
       "30    25\n",
       "28    10\n",
       "27     8\n",
       "25     7\n",
       "23     7\n",
       "22     6\n",
       "26     6\n",
       "31     5\n",
       "24     5\n",
       "14     4\n",
       "20     4\n",
       "18     3\n",
       "4      3\n",
       "7      3\n",
       "17     2\n",
       "16     2\n",
       "15     2\n",
       "10     2\n",
       "21     2\n",
       "32     1\n",
       "5      1\n",
       "19     1\n",
       "8      1\n",
       "9      1\n",
       "12     1\n",
       "2      1\n",
       "Name: Games Played, dtype: int64"
      ]
     },
     "execution_count": 24,
     "metadata": {},
     "output_type": "execute_result"
    }
   ],
   "source": [
    "wnba[\"Games Played\"].value_counts()"
   ]
  },
  {
   "cell_type": "code",
   "execution_count": 25,
   "metadata": {},
   "outputs": [
    {
     "data": {
      "text/plain": [
       "(22.0, 32.0]     104\n",
       "(12.0, 22.0]      26\n",
       "(1.969, 12.0]     13\n",
       "Name: Games Played, dtype: int64"
      ]
     },
     "execution_count": 25,
     "metadata": {},
     "output_type": "execute_result"
    }
   ],
   "source": [
    "wnba[\"Games Played\"].value_counts(bins=3)"
   ]
  },
  {
   "cell_type": "markdown",
   "metadata": {},
   "source": [
    "# (not include, include]"
   ]
  },
  {
   "cell_type": "code",
   "execution_count": 26,
   "metadata": {},
   "outputs": [
    {
     "data": {
      "text/plain": [
       "(1.969, 12.0]     13\n",
       "(12.0, 22.0]      26\n",
       "(22.0, 32.0]     104\n",
       "Name: Games Played, dtype: int64"
      ]
     },
     "execution_count": 26,
     "metadata": {},
     "output_type": "execute_result"
    }
   ],
   "source": [
    "wnba[\"Games Played\"].value_counts(bins=3).sort_index()"
   ]
  },
  {
   "cell_type": "code",
   "execution_count": 27,
   "metadata": {},
   "outputs": [
    {
     "data": {
      "text/plain": [
       "2"
      ]
     },
     "execution_count": 27,
     "metadata": {},
     "output_type": "execute_result"
    }
   ],
   "source": [
    "wnba[\"Games Played\"].min()"
   ]
  },
  {
   "cell_type": "markdown",
   "metadata": {},
   "source": [
    "* this prove that value starts from 2\n",
    "* value in between can not add (discreate like ,chair,no of students)\n",
    "* age, price,runs in creickets is continues values\n",
    "* age look alike discrete but it nature is continues.\n",
    "* (1.969, 12.0] this is class interval that have upper and lower limit\n",
    "* above is group frequncy table"
   ]
  },
  {
   "cell_type": "code",
   "execution_count": 28,
   "metadata": {},
   "outputs": [
    {
     "data": {
      "text/plain": [
       "(1.969, 12.0]    0.090909\n",
       "(12.0, 22.0]     0.181818\n",
       "(22.0, 32.0]     0.727273\n",
       "Name: Games Played, dtype: float64"
      ]
     },
     "execution_count": 28,
     "metadata": {},
     "output_type": "execute_result"
    }
   ],
   "source": [
    "wnba[\"Games Played\"].value_counts(bins=3,normalize=True).sort_index()"
   ]
  },
  {
   "cell_type": "code",
   "execution_count": 29,
   "metadata": {},
   "outputs": [
    {
     "data": {
      "text/plain": [
       "(1.969, 12.0]     9.090909\n",
       "(12.0, 22.0]     18.181818\n",
       "(22.0, 32.0]     72.727273\n",
       "Name: Games Played, dtype: float64"
      ]
     },
     "execution_count": 29,
     "metadata": {},
     "output_type": "execute_result"
    }
   ],
   "source": [
    "(wnba[\"Games Played\"].value_counts(bins=3,normalize=True).sort_index())*100"
   ]
  },
  {
   "cell_type": "markdown",
   "metadata": {},
   "source": [
    "* now here is point if we are doing rondaom sample then there may be chnace that we select the sample that have in just 9 % interval, therefor we move stratified sampling techique \n",
    "* here we collect the data from each interval or stratum"
   ]
  },
  {
   "cell_type": "code",
   "execution_count": 30,
   "metadata": {},
   "outputs": [],
   "source": [
    "stratum1=wnba[wnba[\"Games Played\"]<=12]\n",
    "stratum2=wnba[wnba[\"Games Played\"].between(13,22)]\n",
    "stratum3=wnba[wnba[\"Games Played\"]>=23]"
   ]
  },
  {
   "cell_type": "code",
   "execution_count": 31,
   "metadata": {},
   "outputs": [
    {
     "data": {
      "text/plain": [
       "(143, 32)"
      ]
     },
     "execution_count": 31,
     "metadata": {},
     "output_type": "execute_result"
    }
   ],
   "source": [
    "sum_=stratum1+stratum2+stratum3\n",
    "sum_.shape\n",
    "#tally"
   ]
  },
  {
   "cell_type": "markdown",
   "metadata": {},
   "source": [
    "# now we need to collect 10 sample,\n",
    "we collect stratum1 with respect to 10,20,70 %"
   ]
  },
  {
   "cell_type": "code",
   "execution_count": 32,
   "metadata": {},
   "outputs": [
    {
     "data": {
      "text/plain": [
       "0.7"
      ]
     },
     "execution_count": 32,
     "metadata": {},
     "output_type": "execute_result"
    }
   ],
   "source": [
    "10/100\n",
    "20/100\n",
    "70/100"
   ]
  },
  {
   "cell_type": "code",
   "execution_count": 33,
   "metadata": {},
   "outputs": [],
   "source": [
    "s1=stratum1.sample(1,random_state=1)\n",
    "s2=stratum2.sample(2,random_state=1)\n",
    "s3=stratum3.sample(7,random_state=1)"
   ]
  },
  {
   "cell_type": "code",
   "execution_count": 34,
   "metadata": {},
   "outputs": [
    {
     "data": {
      "text/html": [
       "<div>\n",
       "<style scoped>\n",
       "    .dataframe tbody tr th:only-of-type {\n",
       "        vertical-align: middle;\n",
       "    }\n",
       "\n",
       "    .dataframe tbody tr th {\n",
       "        vertical-align: top;\n",
       "    }\n",
       "\n",
       "    .dataframe thead th {\n",
       "        text-align: right;\n",
       "    }\n",
       "</style>\n",
       "<table border=\"1\" class=\"dataframe\">\n",
       "  <thead>\n",
       "    <tr style=\"text-align: right;\">\n",
       "      <th></th>\n",
       "      <th>Name</th>\n",
       "      <th>Team</th>\n",
       "      <th>Pos</th>\n",
       "      <th>Height</th>\n",
       "      <th>Weight</th>\n",
       "      <th>BMI</th>\n",
       "      <th>Birth_Place</th>\n",
       "      <th>Birthdate</th>\n",
       "      <th>Age</th>\n",
       "      <th>College</th>\n",
       "      <th>...</th>\n",
       "      <th>OREB</th>\n",
       "      <th>DREB</th>\n",
       "      <th>REB</th>\n",
       "      <th>AST</th>\n",
       "      <th>STL</th>\n",
       "      <th>BLK</th>\n",
       "      <th>TO</th>\n",
       "      <th>PTS</th>\n",
       "      <th>DD2</th>\n",
       "      <th>TD3</th>\n",
       "    </tr>\n",
       "  </thead>\n",
       "  <tbody>\n",
       "    <tr>\n",
       "      <th>14</th>\n",
       "      <td>Aneika Henry</td>\n",
       "      <td>ATL</td>\n",
       "      <td>F/C</td>\n",
       "      <td>193</td>\n",
       "      <td>87.0</td>\n",
       "      <td>23.356332</td>\n",
       "      <td>JM</td>\n",
       "      <td>February 13, 1986</td>\n",
       "      <td>31</td>\n",
       "      <td>Florida</td>\n",
       "      <td>...</td>\n",
       "      <td>0</td>\n",
       "      <td>4</td>\n",
       "      <td>4</td>\n",
       "      <td>1</td>\n",
       "      <td>2</td>\n",
       "      <td>0</td>\n",
       "      <td>3</td>\n",
       "      <td>8</td>\n",
       "      <td>0</td>\n",
       "      <td>0</td>\n",
       "    </tr>\n",
       "  </tbody>\n",
       "</table>\n",
       "<p>1 rows × 32 columns</p>\n",
       "</div>"
      ],
      "text/plain": [
       "            Name Team  Pos  Height  Weight        BMI Birth_Place  \\\n",
       "14  Aneika Henry  ATL  F/C     193    87.0  23.356332          JM   \n",
       "\n",
       "            Birthdate  Age  College  ... OREB  DREB  REB  AST  STL  BLK  TO  \\\n",
       "14  February 13, 1986   31  Florida  ...    0     4    4    1    2    0   3   \n",
       "\n",
       "    PTS  DD2  TD3  \n",
       "14    8    0    0  \n",
       "\n",
       "[1 rows x 32 columns]"
      ]
     },
     "execution_count": 34,
     "metadata": {},
     "output_type": "execute_result"
    }
   ],
   "source": [
    "s1"
   ]
  },
  {
   "cell_type": "code",
   "execution_count": 35,
   "metadata": {},
   "outputs": [
    {
     "data": {
      "text/html": [
       "<div>\n",
       "<style scoped>\n",
       "    .dataframe tbody tr th:only-of-type {\n",
       "        vertical-align: middle;\n",
       "    }\n",
       "\n",
       "    .dataframe tbody tr th {\n",
       "        vertical-align: top;\n",
       "    }\n",
       "\n",
       "    .dataframe thead th {\n",
       "        text-align: right;\n",
       "    }\n",
       "</style>\n",
       "<table border=\"1\" class=\"dataframe\">\n",
       "  <thead>\n",
       "    <tr style=\"text-align: right;\">\n",
       "      <th></th>\n",
       "      <th>Name</th>\n",
       "      <th>Team</th>\n",
       "      <th>Pos</th>\n",
       "      <th>Height</th>\n",
       "      <th>Weight</th>\n",
       "      <th>BMI</th>\n",
       "      <th>Birth_Place</th>\n",
       "      <th>Birthdate</th>\n",
       "      <th>Age</th>\n",
       "      <th>College</th>\n",
       "      <th>...</th>\n",
       "      <th>OREB</th>\n",
       "      <th>DREB</th>\n",
       "      <th>REB</th>\n",
       "      <th>AST</th>\n",
       "      <th>STL</th>\n",
       "      <th>BLK</th>\n",
       "      <th>TO</th>\n",
       "      <th>PTS</th>\n",
       "      <th>DD2</th>\n",
       "      <th>TD3</th>\n",
       "    </tr>\n",
       "  </thead>\n",
       "  <tbody>\n",
       "    <tr>\n",
       "      <th>14</th>\n",
       "      <td>Aneika Henry</td>\n",
       "      <td>ATL</td>\n",
       "      <td>F/C</td>\n",
       "      <td>193</td>\n",
       "      <td>87.0</td>\n",
       "      <td>23.356332</td>\n",
       "      <td>JM</td>\n",
       "      <td>February 13, 1986</td>\n",
       "      <td>31</td>\n",
       "      <td>Florida</td>\n",
       "      <td>...</td>\n",
       "      <td>0</td>\n",
       "      <td>4</td>\n",
       "      <td>4</td>\n",
       "      <td>1</td>\n",
       "      <td>2</td>\n",
       "      <td>0</td>\n",
       "      <td>3</td>\n",
       "      <td>8</td>\n",
       "      <td>0</td>\n",
       "      <td>0</td>\n",
       "    </tr>\n",
       "    <tr>\n",
       "      <th>91</th>\n",
       "      <td>Makayla Epps</td>\n",
       "      <td>CHI</td>\n",
       "      <td>G</td>\n",
       "      <td>178</td>\n",
       "      <td>NaN</td>\n",
       "      <td>NaN</td>\n",
       "      <td>US</td>\n",
       "      <td>June 6, 1995</td>\n",
       "      <td>22</td>\n",
       "      <td>Kentucky</td>\n",
       "      <td>...</td>\n",
       "      <td>2</td>\n",
       "      <td>0</td>\n",
       "      <td>2</td>\n",
       "      <td>4</td>\n",
       "      <td>1</td>\n",
       "      <td>0</td>\n",
       "      <td>4</td>\n",
       "      <td>6</td>\n",
       "      <td>0</td>\n",
       "      <td>0</td>\n",
       "    </tr>\n",
       "    <tr>\n",
       "      <th>54</th>\n",
       "      <td>Essence Carson</td>\n",
       "      <td>LA</td>\n",
       "      <td>G/F</td>\n",
       "      <td>183</td>\n",
       "      <td>74.0</td>\n",
       "      <td>22.096808</td>\n",
       "      <td>US</td>\n",
       "      <td>July 28, 1986</td>\n",
       "      <td>31</td>\n",
       "      <td>Rutgers</td>\n",
       "      <td>...</td>\n",
       "      <td>7</td>\n",
       "      <td>2</td>\n",
       "      <td>9</td>\n",
       "      <td>0</td>\n",
       "      <td>1</td>\n",
       "      <td>3</td>\n",
       "      <td>5</td>\n",
       "      <td>13</td>\n",
       "      <td>0</td>\n",
       "      <td>0</td>\n",
       "    </tr>\n",
       "    <tr>\n",
       "      <th>132</th>\n",
       "      <td>Tamera Young</td>\n",
       "      <td>ATL</td>\n",
       "      <td>G/F</td>\n",
       "      <td>188</td>\n",
       "      <td>77.0</td>\n",
       "      <td>21.785876</td>\n",
       "      <td>US</td>\n",
       "      <td>October 30, 1986</td>\n",
       "      <td>30</td>\n",
       "      <td>Tennessee</td>\n",
       "      <td>...</td>\n",
       "      <td>23</td>\n",
       "      <td>87</td>\n",
       "      <td>110</td>\n",
       "      <td>66</td>\n",
       "      <td>36</td>\n",
       "      <td>14</td>\n",
       "      <td>61</td>\n",
       "      <td>277</td>\n",
       "      <td>0</td>\n",
       "      <td>0</td>\n",
       "    </tr>\n",
       "    <tr>\n",
       "      <th>57</th>\n",
       "      <td>Imani Boyette</td>\n",
       "      <td>ATL</td>\n",
       "      <td>C</td>\n",
       "      <td>201</td>\n",
       "      <td>88.0</td>\n",
       "      <td>21.781639</td>\n",
       "      <td>US</td>\n",
       "      <td>November 10, 1992</td>\n",
       "      <td>24</td>\n",
       "      <td>Texas</td>\n",
       "      <td>...</td>\n",
       "      <td>43</td>\n",
       "      <td>75</td>\n",
       "      <td>118</td>\n",
       "      <td>14</td>\n",
       "      <td>9</td>\n",
       "      <td>23</td>\n",
       "      <td>22</td>\n",
       "      <td>127</td>\n",
       "      <td>1</td>\n",
       "      <td>0</td>\n",
       "    </tr>\n",
       "    <tr>\n",
       "      <th>114</th>\n",
       "      <td>Sancho Lyttle</td>\n",
       "      <td>ATL</td>\n",
       "      <td>F</td>\n",
       "      <td>193</td>\n",
       "      <td>79.0</td>\n",
       "      <td>21.208623</td>\n",
       "      <td>ES</td>\n",
       "      <td>September 20, 1983</td>\n",
       "      <td>33</td>\n",
       "      <td>Houston</td>\n",
       "      <td>...</td>\n",
       "      <td>42</td>\n",
       "      <td>138</td>\n",
       "      <td>180</td>\n",
       "      <td>41</td>\n",
       "      <td>40</td>\n",
       "      <td>17</td>\n",
       "      <td>34</td>\n",
       "      <td>156</td>\n",
       "      <td>0</td>\n",
       "      <td>0</td>\n",
       "    </tr>\n",
       "    <tr>\n",
       "      <th>86</th>\n",
       "      <td>Leilani Mitchell</td>\n",
       "      <td>PHO</td>\n",
       "      <td>G</td>\n",
       "      <td>165</td>\n",
       "      <td>58.0</td>\n",
       "      <td>21.303949</td>\n",
       "      <td>US</td>\n",
       "      <td>June 15, 1985</td>\n",
       "      <td>32</td>\n",
       "      <td>Utah</td>\n",
       "      <td>...</td>\n",
       "      <td>12</td>\n",
       "      <td>57</td>\n",
       "      <td>69</td>\n",
       "      <td>108</td>\n",
       "      <td>26</td>\n",
       "      <td>9</td>\n",
       "      <td>50</td>\n",
       "      <td>233</td>\n",
       "      <td>0</td>\n",
       "      <td>0</td>\n",
       "    </tr>\n",
       "    <tr>\n",
       "      <th>60</th>\n",
       "      <td>Jantel Lavender</td>\n",
       "      <td>LA</td>\n",
       "      <td>C</td>\n",
       "      <td>193</td>\n",
       "      <td>84.0</td>\n",
       "      <td>22.550941</td>\n",
       "      <td>US</td>\n",
       "      <td>December 11, 1988</td>\n",
       "      <td>28</td>\n",
       "      <td>Ohio State</td>\n",
       "      <td>...</td>\n",
       "      <td>31</td>\n",
       "      <td>56</td>\n",
       "      <td>87</td>\n",
       "      <td>28</td>\n",
       "      <td>8</td>\n",
       "      <td>5</td>\n",
       "      <td>35</td>\n",
       "      <td>200</td>\n",
       "      <td>0</td>\n",
       "      <td>0</td>\n",
       "    </tr>\n",
       "    <tr>\n",
       "      <th>61</th>\n",
       "      <td>Jasmine Thomas</td>\n",
       "      <td>CON</td>\n",
       "      <td>G</td>\n",
       "      <td>175</td>\n",
       "      <td>66.0</td>\n",
       "      <td>21.551020</td>\n",
       "      <td>US</td>\n",
       "      <td>September 30, 1989</td>\n",
       "      <td>27</td>\n",
       "      <td>Duke</td>\n",
       "      <td>...</td>\n",
       "      <td>9</td>\n",
       "      <td>55</td>\n",
       "      <td>64</td>\n",
       "      <td>118</td>\n",
       "      <td>45</td>\n",
       "      <td>4</td>\n",
       "      <td>58</td>\n",
       "      <td>391</td>\n",
       "      <td>1</td>\n",
       "      <td>0</td>\n",
       "    </tr>\n",
       "    <tr>\n",
       "      <th>79</th>\n",
       "      <td>Kelsey Plum</td>\n",
       "      <td>SAN</td>\n",
       "      <td>G</td>\n",
       "      <td>173</td>\n",
       "      <td>66.0</td>\n",
       "      <td>22.052190</td>\n",
       "      <td>US</td>\n",
       "      <td>August 24, 1994</td>\n",
       "      <td>23</td>\n",
       "      <td>Washington</td>\n",
       "      <td>...</td>\n",
       "      <td>11</td>\n",
       "      <td>42</td>\n",
       "      <td>53</td>\n",
       "      <td>91</td>\n",
       "      <td>13</td>\n",
       "      <td>4</td>\n",
       "      <td>72</td>\n",
       "      <td>225</td>\n",
       "      <td>0</td>\n",
       "      <td>0</td>\n",
       "    </tr>\n",
       "  </tbody>\n",
       "</table>\n",
       "<p>10 rows × 32 columns</p>\n",
       "</div>"
      ],
      "text/plain": [
       "                 Name Team  Pos  Height  Weight        BMI Birth_Place  \\\n",
       "14       Aneika Henry  ATL  F/C     193    87.0  23.356332          JM   \n",
       "91       Makayla Epps  CHI    G     178     NaN        NaN          US   \n",
       "54     Essence Carson   LA  G/F     183    74.0  22.096808          US   \n",
       "132      Tamera Young  ATL  G/F     188    77.0  21.785876          US   \n",
       "57      Imani Boyette  ATL    C     201    88.0  21.781639          US   \n",
       "114     Sancho Lyttle  ATL    F     193    79.0  21.208623          ES   \n",
       "86   Leilani Mitchell  PHO    G     165    58.0  21.303949          US   \n",
       "60    Jantel Lavender   LA    C     193    84.0  22.550941          US   \n",
       "61     Jasmine Thomas  CON    G     175    66.0  21.551020          US   \n",
       "79        Kelsey Plum  SAN    G     173    66.0  22.052190          US   \n",
       "\n",
       "              Birthdate  Age     College  ... OREB  DREB  REB  AST  STL  BLK  \\\n",
       "14    February 13, 1986   31     Florida  ...    0     4    4    1    2    0   \n",
       "91         June 6, 1995   22    Kentucky  ...    2     0    2    4    1    0   \n",
       "54        July 28, 1986   31     Rutgers  ...    7     2    9    0    1    3   \n",
       "132    October 30, 1986   30   Tennessee  ...   23    87  110   66   36   14   \n",
       "57    November 10, 1992   24       Texas  ...   43    75  118   14    9   23   \n",
       "114  September 20, 1983   33     Houston  ...   42   138  180   41   40   17   \n",
       "86        June 15, 1985   32        Utah  ...   12    57   69  108   26    9   \n",
       "60    December 11, 1988   28  Ohio State  ...   31    56   87   28    8    5   \n",
       "61   September 30, 1989   27        Duke  ...    9    55   64  118   45    4   \n",
       "79      August 24, 1994   23  Washington  ...   11    42   53   91   13    4   \n",
       "\n",
       "     TO  PTS  DD2  TD3  \n",
       "14    3    8    0    0  \n",
       "91    4    6    0    0  \n",
       "54    5   13    0    0  \n",
       "132  61  277    0    0  \n",
       "57   22  127    1    0  \n",
       "114  34  156    0    0  \n",
       "86   50  233    0    0  \n",
       "60   35  200    0    0  \n",
       "61   58  391    1    0  \n",
       "79   72  225    0    0  \n",
       "\n",
       "[10 rows x 32 columns]"
      ]
     },
     "execution_count": 35,
     "metadata": {},
     "output_type": "execute_result"
    }
   ],
   "source": [
    "df=pd.concat([s1,s2,s3],axis=0)\n",
    "df"
   ]
  },
  {
   "cell_type": "markdown",
   "metadata": {},
   "source": [
    "# now check the data representative"
   ]
  },
  {
   "cell_type": "code",
   "execution_count": 36,
   "metadata": {},
   "outputs": [
    {
     "data": {
      "text/plain": [
       "163.6"
      ]
     },
     "execution_count": 36,
     "metadata": {},
     "output_type": "execute_result"
    }
   ],
   "source": [
    "df[\"PTS\"].mean()\n",
    "#this is error"
   ]
  },
  {
   "cell_type": "code",
   "execution_count": 37,
   "metadata": {},
   "outputs": [
    {
     "data": {
      "text/plain": [
       "Index(['Name', 'Team', 'Pos', 'Height', 'Weight', 'BMI', 'Birth_Place',\n",
       "       'Birthdate', 'Age', 'College', 'Experience', 'Games Played', 'MIN',\n",
       "       'FGM', 'FGA', 'FG%', '15:00', '3PA', '3P%', 'FTM', 'FTA', 'FT%', 'OREB',\n",
       "       'DREB', 'REB', 'AST', 'STL', 'BLK', 'TO', 'PTS', 'DD2', 'TD3'],\n",
       "      dtype='object')"
      ]
     },
     "execution_count": 37,
     "metadata": {},
     "output_type": "execute_result"
    }
   ],
   "source": [
    "wnba.columns"
   ]
  },
  {
   "cell_type": "markdown",
   "metadata": {},
   "source": [
    "* in abvoe stratum is wrong because there is 1 colum MIN so , we need to check withrespect to min"
   ]
  },
  {
   "cell_type": "markdown",
   "metadata": {},
   "source": [
    "# 3rd techinque of sampling is cluster"
   ]
  },
  {
   "cell_type": "code",
   "execution_count": 38,
   "metadata": {},
   "outputs": [
    {
     "data": {
      "text/plain": [
       "12"
      ]
     },
     "execution_count": 38,
     "metadata": {},
     "output_type": "execute_result"
    }
   ],
   "source": [
    "len(wnba.Team.unique())"
   ]
  },
  {
   "cell_type": "code",
   "execution_count": 39,
   "metadata": {},
   "outputs": [
    {
     "data": {
      "text/plain": [
       "97     SAN\n",
       "119    WAS\n",
       "48     PHO\n",
       "54      LA\n",
       "Name: Team, dtype: object"
      ]
     },
     "execution_count": 39,
     "metadata": {},
     "output_type": "execute_result"
    }
   ],
   "source": [
    "wnba[\"Team\"].sample(4,random_state=2) # same like as seed function"
   ]
  },
  {
   "cell_type": "markdown",
   "metadata": {},
   "source": [
    "**in above there is four cluters,and gather the data is called cluter sampling, we collect the data and after that we can apply any statuam or random techinuque, in cluter data is distributed**\n",
    "* insambule mean do any techique above 3, ranodm,startum,cluter"
   ]
  },
  {
   "cell_type": "markdown",
   "metadata": {},
   "source": [
    "# data type"
   ]
  },
  {
   "cell_type": "markdown",
   "metadata": {},
   "source": [
    "* 2 type of variable\n",
    "* qualitative(mean attributes , that is change in 2 values but have no direction and no size and this data is nominal and fall in qualitaive, example no in back of players,postal code of home)\n",
    "* quantitaive(means quantity,like float, measure of scale is ordinal,interval,ratio  )\n",
    "* ordinal>>have dif and direction , oridinal can be in words.like tall and short but have no size, east and west is also ordinal\n",
    "* interval>>hight is dif , size and direction but not mostly is this type of data\n",
    "* ratio >>dif , size and direction example 0 degree tempreture, age is aslo ratio , that can not be below 0\n",
    "* interval and ration have sub-branch of continuous and discrete\n",
    "* in state we call the column >>>> variable(case to case value change)\n",
    "\n",
    "* dif,size,direction  "
   ]
  },
  {
   "cell_type": "code",
   "execution_count": 40,
   "metadata": {},
   "outputs": [
    {
     "data": {
      "text/plain": [
       "24    16\n",
       "25    15\n",
       "23    15\n",
       "28    14\n",
       "27    13\n",
       "26    12\n",
       "22    10\n",
       "30     9\n",
       "32     8\n",
       "31     8\n",
       "29     8\n",
       "34     5\n",
       "35     4\n",
       "33     3\n",
       "21     2\n",
       "36     1\n",
       "Name: Age, dtype: int64"
      ]
     },
     "execution_count": 40,
     "metadata": {},
     "output_type": "execute_result"
    }
   ],
   "source": [
    "wnba[\"Age\"].value_counts()\n",
    "#frequency gernerate"
   ]
  },
  {
   "cell_type": "code",
   "execution_count": 41,
   "metadata": {},
   "outputs": [
    {
     "data": {
      "text/plain": [
       "21     2\n",
       "22    10\n",
       "23    15\n",
       "24    16\n",
       "25    15\n",
       "26    12\n",
       "27    13\n",
       "28    14\n",
       "29     8\n",
       "30     9\n",
       "31     8\n",
       "32     8\n",
       "33     3\n",
       "34     5\n",
       "35     4\n",
       "36     1\n",
       "Name: Age, dtype: int64"
      ]
     },
     "execution_count": 41,
     "metadata": {},
     "output_type": "execute_result"
    }
   ],
   "source": [
    "wnba[\"Age\"].value_counts().sort_index()\n",
    "#frequency gernerate"
   ]
  },
  {
   "cell_type": "markdown",
   "metadata": {},
   "source": [
    "# normalization"
   ]
  },
  {
   "cell_type": "code",
   "execution_count": 42,
   "metadata": {},
   "outputs": [
    {
     "data": {
      "text/plain": [
       "21    0.013986\n",
       "22    0.069930\n",
       "23    0.104895\n",
       "24    0.111888\n",
       "25    0.104895\n",
       "26    0.083916\n",
       "27    0.090909\n",
       "28    0.097902\n",
       "29    0.055944\n",
       "30    0.062937\n",
       "31    0.055944\n",
       "32    0.055944\n",
       "33    0.020979\n",
       "34    0.034965\n",
       "35    0.027972\n",
       "36    0.006993\n",
       "Name: Age, dtype: float64"
      ]
     },
     "execution_count": 42,
     "metadata": {},
     "output_type": "execute_result"
    }
   ],
   "source": [
    "wnba[\"Age\"].value_counts(normalize=True).sort_index()"
   ]
  },
  {
   "cell_type": "code",
   "execution_count": 43,
   "metadata": {},
   "outputs": [
    {
     "data": {
      "text/plain": [
       "21    0.013986\n",
       "22    0.069930\n",
       "23    0.104895\n",
       "Name: Age, dtype: float64"
      ]
     },
     "execution_count": 43,
     "metadata": {},
     "output_type": "execute_result"
    }
   ],
   "source": [
    "(wnba[\"Age\"].value_counts(normalize=True).sort_index()).loc[:23]"
   ]
  },
  {
   "cell_type": "code",
   "execution_count": 44,
   "metadata": {
    "scrolled": true
   },
   "outputs": [
    {
     "data": {
      "text/plain": [
       "21    0.013986\n",
       "22    0.069930\n",
       "23    0.104895\n",
       "Name: Age, dtype: float64"
      ]
     },
     "execution_count": 44,
     "metadata": {},
     "output_type": "execute_result"
    }
   ],
   "source": [
    "(wnba[\"Age\"].value_counts(normalize=True).sort_index()).iloc[0:3]"
   ]
  },
  {
   "cell_type": "code",
   "execution_count": 45,
   "metadata": {},
   "outputs": [
    {
     "data": {
      "text/plain": [
       "21     1.398601\n",
       "22     6.993007\n",
       "23    10.489510\n",
       "Name: Age, dtype: float64"
      ]
     },
     "execution_count": 45,
     "metadata": {},
     "output_type": "execute_result"
    }
   ],
   "source": [
    "((wnba[\"Age\"].value_counts(normalize=True).sort_index())*100).iloc[0:3]"
   ]
  },
  {
   "cell_type": "code",
   "execution_count": 46,
   "metadata": {},
   "outputs": [
    {
     "data": {
      "text/plain": [
       "18.88111888111888"
      ]
     },
     "execution_count": 46,
     "metadata": {},
     "output_type": "execute_result"
    }
   ],
   "source": [
    "(wnba[\"Age\"].value_counts(normalize=True).sort_index()).iloc[0:3].sum()*100"
   ]
  },
  {
   "cell_type": "markdown",
   "metadata": {},
   "source": [
    "**this means that 23th percentile rank is 18.18**"
   ]
  },
  {
   "cell_type": "markdown",
   "metadata": {},
   "source": [
    "# what is percentile"
   ]
  },
  {
   "cell_type": "markdown",
   "metadata": {},
   "source": [
    "values below 23, the sum is 18 and its position of 23 is at 18th percentile\n",
    "\n",
    "what is the percentil rank of 23 ?\n",
    "total sum of ,the rank of 23 percentile rank is the percentage of itself and the percentage below from 23 called percentile\n",
    "the percentage of 23 is 10 % and below is 6 and 1 percentage  but its percentile rank is 18.88=19th percentile\n",
    "in other words\n",
    "\n",
    "\n",
    "**percentile or percentile rank = any percentage equal-to and lesser than that value**  "
   ]
  },
  {
   "cell_type": "markdown",
   "metadata": {},
   "source": [
    "# example of percentile\n",
    "we have 50 students and i got 100 marks out of 100, my percentage is 100 but my perentil rank is 100\n"
   ]
  },
  {
   "cell_type": "code",
   "execution_count": 47,
   "metadata": {},
   "outputs": [
    {
     "data": {
      "text/plain": [
       "100.0"
      ]
     },
     "execution_count": 47,
     "metadata": {},
     "output_type": "execute_result"
    }
   ],
   "source": [
    "(100*100)/100\n",
    "#percentage"
   ]
  },
  {
   "cell_type": "code",
   "execution_count": 48,
   "metadata": {},
   "outputs": [
    {
     "data": {
      "text/plain": [
       "100.0"
      ]
     },
     "execution_count": 48,
     "metadata": {},
     "output_type": "execute_result"
    }
   ],
   "source": [
    "(50*100)/50\n",
    "#percentile"
   ]
  },
  {
   "cell_type": "code",
   "execution_count": 49,
   "metadata": {},
   "outputs": [
    {
     "data": {
      "text/plain": [
       "100.0"
      ]
     },
     "execution_count": 49,
     "metadata": {},
     "output_type": "execute_result"
    }
   ],
   "source": [
    "(2+48)*100/50\n",
    "#now 2 person in class have same marks,  #percentile"
   ]
  },
  {
   "cell_type": "code",
   "execution_count": 50,
   "metadata": {},
   "outputs": [
    {
     "data": {
      "text/plain": [
       "98.0"
      ]
     },
     "execution_count": 50,
     "metadata": {},
     "output_type": "execute_result"
    }
   ],
   "source": [
    "98*100/100\n",
    "#percentage"
   ]
  },
  {
   "cell_type": "code",
   "execution_count": 51,
   "metadata": {},
   "outputs": [
    {
     "data": {
      "text/plain": [
       "96.0"
      ]
     },
     "execution_count": 51,
     "metadata": {},
     "output_type": "execute_result"
    }
   ],
   "source": [
    "(1+47)*100/50\n",
    "#percentile"
   ]
  },
  {
   "cell_type": "code",
   "execution_count": 52,
   "metadata": {},
   "outputs": [
    {
     "data": {
      "text/plain": [
       "95.0"
      ]
     },
     "execution_count": 52,
     "metadata": {},
     "output_type": "execute_result"
    }
   ],
   "source": [
    "95*100/100\n",
    "#percentage"
   ]
  },
  {
   "cell_type": "code",
   "execution_count": 53,
   "metadata": {},
   "outputs": [
    {
     "data": {
      "text/plain": [
       "94.0"
      ]
     },
     "execution_count": 53,
     "metadata": {},
     "output_type": "execute_result"
    }
   ],
   "source": [
    "(1+46)*100/50\n",
    "#percentile"
   ]
  },
  {
   "cell_type": "markdown",
   "metadata": {},
   "source": [
    "    * marks       no of students\n",
    "    * 100               2\n",
    "    * 99                3\n",
    "    * 98                1\n",
    "\n",
    "* calculate #percentile total students 50"
   ]
  },
  {
   "cell_type": "code",
   "execution_count": 54,
   "metadata": {},
   "outputs": [
    {
     "data": {
      "text/plain": [
       "100.0"
      ]
     },
     "execution_count": 54,
     "metadata": {},
     "output_type": "execute_result"
    }
   ],
   "source": [
    "(0+50)*100/50"
   ]
  },
  {
   "cell_type": "code",
   "execution_count": 55,
   "metadata": {},
   "outputs": [
    {
     "data": {
      "text/plain": [
       "96.0"
      ]
     },
     "execution_count": 55,
     "metadata": {},
     "output_type": "execute_result"
    }
   ],
   "source": [
    "(1+47)*100/50"
   ]
  },
  {
   "cell_type": "code",
   "execution_count": 56,
   "metadata": {},
   "outputs": [
    {
     "data": {
      "text/plain": [
       "90.0"
      ]
     },
     "execution_count": 56,
     "metadata": {},
     "output_type": "execute_result"
    }
   ],
   "source": [
    "(1+44)*100/50"
   ]
  },
  {
   "cell_type": "markdown",
   "metadata": {},
   "source": [
    "# to avoid above isseu we use sypy, scientific python liberary"
   ]
  },
  {
   "cell_type": "code",
   "execution_count": 57,
   "metadata": {},
   "outputs": [],
   "source": [
    "from scipy.stats import percentileofscore"
   ]
  },
  {
   "cell_type": "markdown",
   "metadata": {},
   "source": [
    "**we have a liabery percentileofscore then pass 3 argument, that calucate the percentile of 23th**"
   ]
  },
  {
   "cell_type": "code",
   "execution_count": 58,
   "metadata": {},
   "outputs": [
    {
     "data": {
      "text/plain": [
       "18.88111888111888"
      ]
     },
     "execution_count": 58,
     "metadata": {},
     "output_type": "execute_result"
    }
   ],
   "source": [
    "percentileofscore(a=wnba[\"Age\"],score=23,kind=\"weak\")"
   ]
  },
  {
   "cell_type": "code",
   "execution_count": 59,
   "metadata": {},
   "outputs": [
    {
     "data": {
      "text/plain": [
       "36"
      ]
     },
     "execution_count": 59,
     "metadata": {},
     "output_type": "execute_result"
    }
   ],
   "source": [
    "wnba[\"Age\"].max()"
   ]
  },
  {
   "cell_type": "markdown",
   "metadata": {},
   "source": [
    "# find the percentile of 36"
   ]
  },
  {
   "cell_type": "code",
   "execution_count": 60,
   "metadata": {},
   "outputs": [
    {
     "data": {
      "text/plain": [
       "100.0"
      ]
     },
     "execution_count": 60,
     "metadata": {},
     "output_type": "execute_result"
    }
   ],
   "source": [
    "percentileofscore(a=wnba[\"Age\"],score=36,kind=\"weak\")"
   ]
  },
  {
   "cell_type": "code",
   "execution_count": 61,
   "metadata": {},
   "outputs": [
    {
     "data": {
      "text/plain": [
       "count    143.000000\n",
       "mean      27.076923\n",
       "std        3.679170\n",
       "min       21.000000\n",
       "25%       24.000000\n",
       "50%       27.000000\n",
       "75%       30.000000\n",
       "max       36.000000\n",
       "Name: Age, dtype: float64"
      ]
     },
     "execution_count": 61,
     "metadata": {},
     "output_type": "execute_result"
    }
   ],
   "source": [
    "wnba[\"Age\"].describe()"
   ]
  },
  {
   "cell_type": "code",
   "execution_count": 62,
   "metadata": {},
   "outputs": [
    {
     "data": {
      "text/plain": [
       "30.069930069930066"
      ]
     },
     "execution_count": 62,
     "metadata": {},
     "output_type": "execute_result"
    }
   ],
   "source": [
    "percentileofscore(a=wnba[\"Age\"],score=24,kind=\"weak\")"
   ]
  },
  {
   "cell_type": "markdown",
   "metadata": {},
   "source": [
    "# above is miner differnce , that may accure , ignore it "
   ]
  },
  {
   "cell_type": "code",
   "execution_count": 63,
   "metadata": {},
   "outputs": [
    {
     "data": {
      "text/plain": [
       "24.825174825174827"
      ]
     },
     "execution_count": 63,
     "metadata": {},
     "output_type": "execute_result"
    }
   ],
   "source": [
    "percentileofscore(a=wnba[\"Age\"],score=24,kind=\"rank\")\n",
    "#now fulfill"
   ]
  },
  {
   "cell_type": "markdown",
   "metadata": {},
   "source": [
    "* 25 is lower quatile\n",
    "* 50 is 50th quaitile\n",
    "* 75 is upper quatile"
   ]
  },
  {
   "cell_type": "code",
   "execution_count": 64,
   "metadata": {},
   "outputs": [
    {
     "data": {
      "text/plain": [
       "96     3\n",
       "217    3\n",
       "116    2\n",
       "277    2\n",
       "87     2\n",
       "      ..\n",
       "159    1\n",
       "161    1\n",
       "278    1\n",
       "171    1\n",
       "514    1\n",
       "Name: PTS, Length: 123, dtype: int64"
      ]
     },
     "execution_count": 64,
     "metadata": {},
     "output_type": "execute_result"
    }
   ],
   "source": [
    "wnba[\"PTS\"].value_counts()"
   ]
  },
  {
   "cell_type": "code",
   "execution_count": 65,
   "metadata": {},
   "outputs": [
    {
     "data": {
      "text/plain": [
       "(1.417, 60.2]     30\n",
       "(60.2, 118.4]     24\n",
       "(176.6, 234.8]    20\n",
       "(234.8, 293.0]    17\n",
       "(118.4, 176.6]    17\n",
       "(351.2, 409.4]    10\n",
       "(409.4, 467.6]     8\n",
       "(293.0, 351.2]     8\n",
       "(525.8, 584.0]     5\n",
       "(467.6, 525.8]     4\n",
       "Name: PTS, dtype: int64"
      ]
     },
     "execution_count": 65,
     "metadata": {},
     "output_type": "execute_result"
    }
   ],
   "source": [
    "wnba[\"PTS\"].value_counts(bins=10)"
   ]
  },
  {
   "cell_type": "markdown",
   "metadata": {},
   "source": [
    "# 10 bins is the best and accurate interval , 10 is the more accurate bins for intervals, this is acceptable number"
   ]
  },
  {
   "cell_type": "markdown",
   "metadata": {},
   "source": [
    "# make your own interval for best understanding"
   ]
  },
  {
   "cell_type": "code",
   "execution_count": 66,
   "metadata": {},
   "outputs": [
    {
     "data": {
      "text/plain": [
       "IntervalIndex([(0, 100], (100, 200], (200, 300], (300, 400], (400, 500], (500, 600]],\n",
       "              closed='right',\n",
       "              dtype='interval[int64]')"
      ]
     },
     "execution_count": 66,
     "metadata": {},
     "output_type": "execute_result"
    }
   ],
   "source": [
    "interval=pd.interval_range(start=0,end=600,freq=100)\n",
    "interval"
   ]
  },
  {
   "cell_type": "code",
   "execution_count": 67,
   "metadata": {},
   "outputs": [
    {
     "data": {
      "text/plain": [
       "(0, 100]      0\n",
       "(100, 200]    0\n",
       "(200, 300]    0\n",
       "(300, 400]    0\n",
       "(400, 500]    0\n",
       "(500, 600]    0\n",
       "dtype: int64"
      ]
     },
     "execution_count": 67,
     "metadata": {},
     "output_type": "execute_result"
    }
   ],
   "source": [
    "pts=pd.Series(0,index=interval)\n",
    "pts"
   ]
  },
  {
   "cell_type": "code",
   "execution_count": 69,
   "metadata": {},
   "outputs": [
    {
     "name": "stdout",
     "output_type": "stream",
     "text": [
      "93\n",
      "217\n",
      "218\n",
      "188\n",
      "50\n",
      "26\n",
      "24\n",
      "442\n",
      "395\n",
      "36\n",
      "244\n",
      "399\n",
      "51\n",
      "41\n",
      "8\n",
      "58\n",
      "31\n",
      "19\n",
      "7\n",
      "584\n",
      "217\n",
      "235\n",
      "238\n",
      "44\n",
      "26\n",
      "461\n",
      "397\n",
      "228\n",
      "494\n",
      "435\n",
      "250\n",
      "54\n",
      "100\n",
      "456\n",
      "87\n",
      "17\n",
      "70\n",
      "255\n",
      "375\n",
      "370\n",
      "254\n",
      "49\n",
      "209\n",
      "253\n",
      "514\n",
      "376\n",
      "317\n",
      "128\n",
      "252\n",
      "259\n",
      "88\n",
      "336\n",
      "159\n",
      "102\n",
      "13\n",
      "442\n",
      "9\n",
      "127\n",
      "364\n",
      "245\n",
      "200\n",
      "391\n",
      "142\n",
      "70\n",
      "12\n",
      "22\n",
      "268\n",
      "517\n",
      "116\n",
      "467\n",
      "77\n",
      "185\n",
      "161\n",
      "65\n",
      "318\n",
      "171\n",
      "411\n",
      "32\n",
      "207\n",
      "225\n",
      "134\n",
      "141\n",
      "349\n",
      "199\n",
      "6\n",
      "329\n",
      "233\n",
      "48\n",
      "177\n",
      "119\n",
      "3\n",
      "6\n",
      "154\n",
      "73\n",
      "490\n",
      "364\n",
      "91\n",
      "191\n",
      "207\n",
      "106\n",
      "116\n",
      "96\n",
      "48\n",
      "577\n",
      "79\n",
      "230\n",
      "140\n",
      "96\n",
      "106\n",
      "78\n",
      "278\n",
      "216\n",
      "148\n",
      "139\n",
      "156\n",
      "2\n",
      "87\n",
      "298\n",
      "81\n",
      "96\n",
      "346\n",
      "66\n",
      "245\n",
      "158\n",
      "545\n",
      "398\n",
      "138\n",
      "273\n",
      "317\n",
      "72\n",
      "55\n",
      "572\n",
      "277\n",
      "240\n",
      "17\n",
      "217\n",
      "210\n",
      "225\n",
      "467\n",
      "28\n",
      "277\n",
      "582\n",
      "151\n"
     ]
    }
   ],
   "source": [
    "for i in wnba[\"PTS\"]:\n",
    "    print(i)"
   ]
  },
  {
   "cell_type": "code",
   "execution_count": 70,
   "metadata": {},
   "outputs": [
    {
     "name": "stdout",
     "output_type": "stream",
     "text": [
      "93 (0, 100]\n",
      "93 (100, 200]\n",
      "93 (200, 300]\n",
      "93 (300, 400]\n",
      "93 (400, 500]\n",
      "93 (500, 600]\n",
      "217 (0, 100]\n",
      "217 (100, 200]\n",
      "217 (200, 300]\n",
      "217 (300, 400]\n",
      "217 (400, 500]\n",
      "217 (500, 600]\n",
      "218 (0, 100]\n",
      "218 (100, 200]\n",
      "218 (200, 300]\n",
      "218 (300, 400]\n",
      "218 (400, 500]\n",
      "218 (500, 600]\n",
      "188 (0, 100]\n",
      "188 (100, 200]\n",
      "188 (200, 300]\n",
      "188 (300, 400]\n",
      "188 (400, 500]\n",
      "188 (500, 600]\n",
      "50 (0, 100]\n",
      "50 (100, 200]\n",
      "50 (200, 300]\n",
      "50 (300, 400]\n",
      "50 (400, 500]\n",
      "50 (500, 600]\n",
      "26 (0, 100]\n",
      "26 (100, 200]\n",
      "26 (200, 300]\n",
      "26 (300, 400]\n",
      "26 (400, 500]\n",
      "26 (500, 600]\n",
      "24 (0, 100]\n",
      "24 (100, 200]\n",
      "24 (200, 300]\n",
      "24 (300, 400]\n",
      "24 (400, 500]\n",
      "24 (500, 600]\n",
      "442 (0, 100]\n",
      "442 (100, 200]\n",
      "442 (200, 300]\n",
      "442 (300, 400]\n",
      "442 (400, 500]\n",
      "442 (500, 600]\n",
      "395 (0, 100]\n",
      "395 (100, 200]\n",
      "395 (200, 300]\n",
      "395 (300, 400]\n",
      "395 (400, 500]\n",
      "395 (500, 600]\n",
      "36 (0, 100]\n",
      "36 (100, 200]\n",
      "36 (200, 300]\n",
      "36 (300, 400]\n",
      "36 (400, 500]\n",
      "36 (500, 600]\n",
      "244 (0, 100]\n",
      "244 (100, 200]\n",
      "244 (200, 300]\n",
      "244 (300, 400]\n",
      "244 (400, 500]\n",
      "244 (500, 600]\n",
      "399 (0, 100]\n",
      "399 (100, 200]\n",
      "399 (200, 300]\n",
      "399 (300, 400]\n",
      "399 (400, 500]\n",
      "399 (500, 600]\n",
      "51 (0, 100]\n",
      "51 (100, 200]\n",
      "51 (200, 300]\n",
      "51 (300, 400]\n",
      "51 (400, 500]\n",
      "51 (500, 600]\n",
      "41 (0, 100]\n",
      "41 (100, 200]\n",
      "41 (200, 300]\n",
      "41 (300, 400]\n",
      "41 (400, 500]\n",
      "41 (500, 600]\n",
      "8 (0, 100]\n",
      "8 (100, 200]\n",
      "8 (200, 300]\n",
      "8 (300, 400]\n",
      "8 (400, 500]\n",
      "8 (500, 600]\n",
      "58 (0, 100]\n",
      "58 (100, 200]\n",
      "58 (200, 300]\n",
      "58 (300, 400]\n",
      "58 (400, 500]\n",
      "58 (500, 600]\n",
      "31 (0, 100]\n",
      "31 (100, 200]\n",
      "31 (200, 300]\n",
      "31 (300, 400]\n",
      "31 (400, 500]\n",
      "31 (500, 600]\n",
      "19 (0, 100]\n",
      "19 (100, 200]\n",
      "19 (200, 300]\n",
      "19 (300, 400]\n",
      "19 (400, 500]\n",
      "19 (500, 600]\n",
      "7 (0, 100]\n",
      "7 (100, 200]\n",
      "7 (200, 300]\n",
      "7 (300, 400]\n",
      "7 (400, 500]\n",
      "7 (500, 600]\n",
      "584 (0, 100]\n",
      "584 (100, 200]\n",
      "584 (200, 300]\n",
      "584 (300, 400]\n",
      "584 (400, 500]\n",
      "584 (500, 600]\n",
      "217 (0, 100]\n",
      "217 (100, 200]\n",
      "217 (200, 300]\n",
      "217 (300, 400]\n",
      "217 (400, 500]\n",
      "217 (500, 600]\n",
      "235 (0, 100]\n",
      "235 (100, 200]\n",
      "235 (200, 300]\n",
      "235 (300, 400]\n",
      "235 (400, 500]\n",
      "235 (500, 600]\n",
      "238 (0, 100]\n",
      "238 (100, 200]\n",
      "238 (200, 300]\n",
      "238 (300, 400]\n",
      "238 (400, 500]\n",
      "238 (500, 600]\n",
      "44 (0, 100]\n",
      "44 (100, 200]\n",
      "44 (200, 300]\n",
      "44 (300, 400]\n",
      "44 (400, 500]\n",
      "44 (500, 600]\n",
      "26 (0, 100]\n",
      "26 (100, 200]\n",
      "26 (200, 300]\n",
      "26 (300, 400]\n",
      "26 (400, 500]\n",
      "26 (500, 600]\n",
      "461 (0, 100]\n",
      "461 (100, 200]\n",
      "461 (200, 300]\n",
      "461 (300, 400]\n",
      "461 (400, 500]\n",
      "461 (500, 600]\n",
      "397 (0, 100]\n",
      "397 (100, 200]\n",
      "397 (200, 300]\n",
      "397 (300, 400]\n",
      "397 (400, 500]\n",
      "397 (500, 600]\n",
      "228 (0, 100]\n",
      "228 (100, 200]\n",
      "228 (200, 300]\n",
      "228 (300, 400]\n",
      "228 (400, 500]\n",
      "228 (500, 600]\n",
      "494 (0, 100]\n",
      "494 (100, 200]\n",
      "494 (200, 300]\n",
      "494 (300, 400]\n",
      "494 (400, 500]\n",
      "494 (500, 600]\n",
      "435 (0, 100]\n",
      "435 (100, 200]\n",
      "435 (200, 300]\n",
      "435 (300, 400]\n",
      "435 (400, 500]\n",
      "435 (500, 600]\n",
      "250 (0, 100]\n",
      "250 (100, 200]\n",
      "250 (200, 300]\n",
      "250 (300, 400]\n",
      "250 (400, 500]\n",
      "250 (500, 600]\n",
      "54 (0, 100]\n",
      "54 (100, 200]\n",
      "54 (200, 300]\n",
      "54 (300, 400]\n",
      "54 (400, 500]\n",
      "54 (500, 600]\n",
      "100 (0, 100]\n",
      "100 (100, 200]\n",
      "100 (200, 300]\n",
      "100 (300, 400]\n",
      "100 (400, 500]\n",
      "100 (500, 600]\n",
      "456 (0, 100]\n",
      "456 (100, 200]\n",
      "456 (200, 300]\n",
      "456 (300, 400]\n",
      "456 (400, 500]\n",
      "456 (500, 600]\n",
      "87 (0, 100]\n",
      "87 (100, 200]\n",
      "87 (200, 300]\n",
      "87 (300, 400]\n",
      "87 (400, 500]\n",
      "87 (500, 600]\n",
      "17 (0, 100]\n",
      "17 (100, 200]\n",
      "17 (200, 300]\n",
      "17 (300, 400]\n",
      "17 (400, 500]\n",
      "17 (500, 600]\n",
      "70 (0, 100]\n",
      "70 (100, 200]\n",
      "70 (200, 300]\n",
      "70 (300, 400]\n",
      "70 (400, 500]\n",
      "70 (500, 600]\n",
      "255 (0, 100]\n",
      "255 (100, 200]\n",
      "255 (200, 300]\n",
      "255 (300, 400]\n",
      "255 (400, 500]\n",
      "255 (500, 600]\n",
      "375 (0, 100]\n",
      "375 (100, 200]\n",
      "375 (200, 300]\n",
      "375 (300, 400]\n",
      "375 (400, 500]\n",
      "375 (500, 600]\n",
      "370 (0, 100]\n",
      "370 (100, 200]\n",
      "370 (200, 300]\n",
      "370 (300, 400]\n",
      "370 (400, 500]\n",
      "370 (500, 600]\n",
      "254 (0, 100]\n",
      "254 (100, 200]\n",
      "254 (200, 300]\n",
      "254 (300, 400]\n",
      "254 (400, 500]\n",
      "254 (500, 600]\n",
      "49 (0, 100]\n",
      "49 (100, 200]\n",
      "49 (200, 300]\n",
      "49 (300, 400]\n",
      "49 (400, 500]\n",
      "49 (500, 600]\n",
      "209 (0, 100]\n",
      "209 (100, 200]\n",
      "209 (200, 300]\n",
      "209 (300, 400]\n",
      "209 (400, 500]\n",
      "209 (500, 600]\n",
      "253 (0, 100]\n",
      "253 (100, 200]\n",
      "253 (200, 300]\n",
      "253 (300, 400]\n",
      "253 (400, 500]\n",
      "253 (500, 600]\n",
      "514 (0, 100]\n",
      "514 (100, 200]\n",
      "514 (200, 300]\n",
      "514 (300, 400]\n",
      "514 (400, 500]\n",
      "514 (500, 600]\n",
      "376 (0, 100]\n",
      "376 (100, 200]\n",
      "376 (200, 300]\n",
      "376 (300, 400]\n",
      "376 (400, 500]\n",
      "376 (500, 600]\n",
      "317 (0, 100]\n",
      "317 (100, 200]\n",
      "317 (200, 300]\n",
      "317 (300, 400]\n",
      "317 (400, 500]\n",
      "317 (500, 600]\n",
      "128 (0, 100]\n",
      "128 (100, 200]\n",
      "128 (200, 300]\n",
      "128 (300, 400]\n",
      "128 (400, 500]\n",
      "128 (500, 600]\n",
      "252 (0, 100]\n",
      "252 (100, 200]\n",
      "252 (200, 300]\n",
      "252 (300, 400]\n",
      "252 (400, 500]\n",
      "252 (500, 600]\n",
      "259 (0, 100]\n",
      "259 (100, 200]\n",
      "259 (200, 300]\n",
      "259 (300, 400]\n",
      "259 (400, 500]\n",
      "259 (500, 600]\n",
      "88 (0, 100]\n",
      "88 (100, 200]\n",
      "88 (200, 300]\n",
      "88 (300, 400]\n",
      "88 (400, 500]\n",
      "88 (500, 600]\n",
      "336 (0, 100]\n",
      "336 (100, 200]\n",
      "336 (200, 300]\n",
      "336 (300, 400]\n",
      "336 (400, 500]\n",
      "336 (500, 600]\n",
      "159 (0, 100]\n",
      "159 (100, 200]\n",
      "159 (200, 300]\n",
      "159 (300, 400]\n",
      "159 (400, 500]\n",
      "159 (500, 600]\n",
      "102 (0, 100]\n",
      "102 (100, 200]\n",
      "102 (200, 300]\n",
      "102 (300, 400]\n",
      "102 (400, 500]\n",
      "102 (500, 600]\n",
      "13 (0, 100]\n",
      "13 (100, 200]\n",
      "13 (200, 300]\n",
      "13 (300, 400]\n",
      "13 (400, 500]\n",
      "13 (500, 600]\n",
      "442 (0, 100]\n",
      "442 (100, 200]\n",
      "442 (200, 300]\n",
      "442 (300, 400]\n",
      "442 (400, 500]\n",
      "442 (500, 600]\n",
      "9 (0, 100]\n",
      "9 (100, 200]\n",
      "9 (200, 300]\n",
      "9 (300, 400]\n",
      "9 (400, 500]\n",
      "9 (500, 600]\n",
      "127 (0, 100]\n",
      "127 (100, 200]\n",
      "127 (200, 300]\n",
      "127 (300, 400]\n",
      "127 (400, 500]\n",
      "127 (500, 600]\n",
      "364 (0, 100]\n",
      "364 (100, 200]\n",
      "364 (200, 300]\n",
      "364 (300, 400]\n",
      "364 (400, 500]\n",
      "364 (500, 600]\n",
      "245 (0, 100]\n",
      "245 (100, 200]\n",
      "245 (200, 300]\n",
      "245 (300, 400]\n",
      "245 (400, 500]\n",
      "245 (500, 600]\n",
      "200 (0, 100]\n",
      "200 (100, 200]\n",
      "200 (200, 300]\n",
      "200 (300, 400]\n",
      "200 (400, 500]\n",
      "200 (500, 600]\n",
      "391 (0, 100]\n",
      "391 (100, 200]\n",
      "391 (200, 300]\n",
      "391 (300, 400]\n",
      "391 (400, 500]\n",
      "391 (500, 600]\n",
      "142 (0, 100]\n",
      "142 (100, 200]\n",
      "142 (200, 300]\n",
      "142 (300, 400]\n",
      "142 (400, 500]\n",
      "142 (500, 600]\n",
      "70 (0, 100]\n",
      "70 (100, 200]\n",
      "70 (200, 300]\n",
      "70 (300, 400]\n",
      "70 (400, 500]\n",
      "70 (500, 600]\n",
      "12 (0, 100]\n",
      "12 (100, 200]\n",
      "12 (200, 300]\n",
      "12 (300, 400]\n",
      "12 (400, 500]\n",
      "12 (500, 600]\n",
      "22 (0, 100]\n",
      "22 (100, 200]\n",
      "22 (200, 300]\n",
      "22 (300, 400]\n",
      "22 (400, 500]\n",
      "22 (500, 600]\n",
      "268 (0, 100]\n",
      "268 (100, 200]\n",
      "268 (200, 300]\n",
      "268 (300, 400]\n",
      "268 (400, 500]\n",
      "268 (500, 600]\n",
      "517 (0, 100]\n",
      "517 (100, 200]\n",
      "517 (200, 300]\n",
      "517 (300, 400]\n",
      "517 (400, 500]\n",
      "517 (500, 600]\n",
      "116 (0, 100]\n",
      "116 (100, 200]\n",
      "116 (200, 300]\n",
      "116 (300, 400]\n",
      "116 (400, 500]\n",
      "116 (500, 600]\n",
      "467 (0, 100]\n",
      "467 (100, 200]\n",
      "467 (200, 300]\n",
      "467 (300, 400]\n",
      "467 (400, 500]\n",
      "467 (500, 600]\n",
      "77 (0, 100]\n",
      "77 (100, 200]\n",
      "77 (200, 300]\n",
      "77 (300, 400]\n",
      "77 (400, 500]\n",
      "77 (500, 600]\n",
      "185 (0, 100]\n",
      "185 (100, 200]\n",
      "185 (200, 300]\n",
      "185 (300, 400]\n",
      "185 (400, 500]\n",
      "185 (500, 600]\n",
      "161 (0, 100]\n",
      "161 (100, 200]\n",
      "161 (200, 300]\n",
      "161 (300, 400]\n",
      "161 (400, 500]\n",
      "161 (500, 600]\n",
      "65 (0, 100]\n",
      "65 (100, 200]\n",
      "65 (200, 300]\n",
      "65 (300, 400]\n",
      "65 (400, 500]\n",
      "65 (500, 600]\n",
      "318 (0, 100]\n",
      "318 (100, 200]\n",
      "318 (200, 300]\n",
      "318 (300, 400]\n",
      "318 (400, 500]\n",
      "318 (500, 600]\n",
      "171 (0, 100]\n",
      "171 (100, 200]\n",
      "171 (200, 300]\n",
      "171 (300, 400]\n",
      "171 (400, 500]\n",
      "171 (500, 600]\n",
      "411 (0, 100]\n",
      "411 (100, 200]\n",
      "411 (200, 300]\n",
      "411 (300, 400]\n",
      "411 (400, 500]\n",
      "411 (500, 600]\n",
      "32 (0, 100]\n",
      "32 (100, 200]\n",
      "32 (200, 300]\n",
      "32 (300, 400]\n",
      "32 (400, 500]\n",
      "32 (500, 600]\n",
      "207 (0, 100]\n",
      "207 (100, 200]\n",
      "207 (200, 300]\n",
      "207 (300, 400]\n",
      "207 (400, 500]\n",
      "207 (500, 600]\n",
      "225 (0, 100]\n",
      "225 (100, 200]\n",
      "225 (200, 300]\n",
      "225 (300, 400]\n",
      "225 (400, 500]\n",
      "225 (500, 600]\n",
      "134 (0, 100]\n",
      "134 (100, 200]\n",
      "134 (200, 300]\n",
      "134 (300, 400]\n",
      "134 (400, 500]\n",
      "134 (500, 600]\n",
      "141 (0, 100]\n",
      "141 (100, 200]\n",
      "141 (200, 300]\n",
      "141 (300, 400]\n",
      "141 (400, 500]\n",
      "141 (500, 600]\n",
      "349 (0, 100]\n",
      "349 (100, 200]\n",
      "349 (200, 300]\n",
      "349 (300, 400]\n",
      "349 (400, 500]\n",
      "349 (500, 600]\n",
      "199 (0, 100]\n",
      "199 (100, 200]\n",
      "199 (200, 300]\n",
      "199 (300, 400]\n",
      "199 (400, 500]\n",
      "199 (500, 600]\n",
      "6 (0, 100]\n",
      "6 (100, 200]\n",
      "6 (200, 300]\n",
      "6 (300, 400]\n",
      "6 (400, 500]\n",
      "6 (500, 600]\n",
      "329 (0, 100]\n",
      "329 (100, 200]\n",
      "329 (200, 300]\n",
      "329 (300, 400]\n",
      "329 (400, 500]\n",
      "329 (500, 600]\n",
      "233 (0, 100]\n",
      "233 (100, 200]\n",
      "233 (200, 300]\n",
      "233 (300, 400]\n",
      "233 (400, 500]\n",
      "233 (500, 600]\n",
      "48 (0, 100]\n",
      "48 (100, 200]\n",
      "48 (200, 300]\n",
      "48 (300, 400]\n",
      "48 (400, 500]\n",
      "48 (500, 600]\n",
      "177 (0, 100]\n",
      "177 (100, 200]\n",
      "177 (200, 300]\n",
      "177 (300, 400]\n",
      "177 (400, 500]\n",
      "177 (500, 600]\n",
      "119 (0, 100]\n",
      "119 (100, 200]\n",
      "119 (200, 300]\n",
      "119 (300, 400]\n",
      "119 (400, 500]\n",
      "119 (500, 600]\n",
      "3 (0, 100]\n",
      "3 (100, 200]\n",
      "3 (200, 300]\n",
      "3 (300, 400]\n",
      "3 (400, 500]\n",
      "3 (500, 600]\n",
      "6 (0, 100]\n",
      "6 (100, 200]\n",
      "6 (200, 300]\n",
      "6 (300, 400]\n",
      "6 (400, 500]\n",
      "6 (500, 600]\n",
      "154 (0, 100]\n",
      "154 (100, 200]\n",
      "154 (200, 300]\n",
      "154 (300, 400]\n",
      "154 (400, 500]\n",
      "154 (500, 600]\n",
      "73 (0, 100]\n",
      "73 (100, 200]\n",
      "73 (200, 300]\n",
      "73 (300, 400]\n",
      "73 (400, 500]\n",
      "73 (500, 600]\n",
      "490 (0, 100]\n",
      "490 (100, 200]\n",
      "490 (200, 300]\n",
      "490 (300, 400]\n",
      "490 (400, 500]\n",
      "490 (500, 600]\n",
      "364 (0, 100]\n",
      "364 (100, 200]\n",
      "364 (200, 300]\n",
      "364 (300, 400]\n",
      "364 (400, 500]\n",
      "364 (500, 600]\n",
      "91 (0, 100]\n",
      "91 (100, 200]\n",
      "91 (200, 300]\n",
      "91 (300, 400]\n",
      "91 (400, 500]\n",
      "91 (500, 600]\n",
      "191 (0, 100]\n",
      "191 (100, 200]\n",
      "191 (200, 300]\n",
      "191 (300, 400]\n",
      "191 (400, 500]\n",
      "191 (500, 600]\n",
      "207 (0, 100]\n",
      "207 (100, 200]\n",
      "207 (200, 300]\n",
      "207 (300, 400]\n",
      "207 (400, 500]\n",
      "207 (500, 600]\n",
      "106 (0, 100]\n",
      "106 (100, 200]\n",
      "106 (200, 300]\n",
      "106 (300, 400]\n",
      "106 (400, 500]\n",
      "106 (500, 600]\n",
      "116 (0, 100]\n",
      "116 (100, 200]\n",
      "116 (200, 300]\n",
      "116 (300, 400]\n",
      "116 (400, 500]\n",
      "116 (500, 600]\n",
      "96 (0, 100]\n",
      "96 (100, 200]\n",
      "96 (200, 300]\n",
      "96 (300, 400]\n",
      "96 (400, 500]\n",
      "96 (500, 600]\n",
      "48 (0, 100]\n",
      "48 (100, 200]\n",
      "48 (200, 300]\n",
      "48 (300, 400]\n",
      "48 (400, 500]\n",
      "48 (500, 600]\n",
      "577 (0, 100]\n",
      "577 (100, 200]\n",
      "577 (200, 300]\n",
      "577 (300, 400]\n",
      "577 (400, 500]\n",
      "577 (500, 600]\n",
      "79 (0, 100]\n",
      "79 (100, 200]\n",
      "79 (200, 300]\n",
      "79 (300, 400]\n",
      "79 (400, 500]\n",
      "79 (500, 600]\n",
      "230 (0, 100]\n",
      "230 (100, 200]\n",
      "230 (200, 300]\n",
      "230 (300, 400]\n",
      "230 (400, 500]\n",
      "230 (500, 600]\n",
      "140 (0, 100]\n",
      "140 (100, 200]\n",
      "140 (200, 300]\n",
      "140 (300, 400]\n",
      "140 (400, 500]\n",
      "140 (500, 600]\n",
      "96 (0, 100]\n",
      "96 (100, 200]\n",
      "96 (200, 300]\n",
      "96 (300, 400]\n",
      "96 (400, 500]\n",
      "96 (500, 600]\n",
      "106 (0, 100]\n",
      "106 (100, 200]\n"
     ]
    },
    {
     "name": "stdout",
     "output_type": "stream",
     "text": [
      "106 (200, 300]\n",
      "106 (300, 400]\n",
      "106 (400, 500]\n",
      "106 (500, 600]\n",
      "78 (0, 100]\n",
      "78 (100, 200]\n",
      "78 (200, 300]\n",
      "78 (300, 400]\n",
      "78 (400, 500]\n",
      "78 (500, 600]\n",
      "278 (0, 100]\n",
      "278 (100, 200]\n",
      "278 (200, 300]\n",
      "278 (300, 400]\n",
      "278 (400, 500]\n",
      "278 (500, 600]\n",
      "216 (0, 100]\n",
      "216 (100, 200]\n",
      "216 (200, 300]\n",
      "216 (300, 400]\n",
      "216 (400, 500]\n",
      "216 (500, 600]\n",
      "148 (0, 100]\n",
      "148 (100, 200]\n",
      "148 (200, 300]\n",
      "148 (300, 400]\n",
      "148 (400, 500]\n",
      "148 (500, 600]\n",
      "139 (0, 100]\n",
      "139 (100, 200]\n",
      "139 (200, 300]\n",
      "139 (300, 400]\n",
      "139 (400, 500]\n",
      "139 (500, 600]\n",
      "156 (0, 100]\n",
      "156 (100, 200]\n",
      "156 (200, 300]\n",
      "156 (300, 400]\n",
      "156 (400, 500]\n",
      "156 (500, 600]\n",
      "2 (0, 100]\n",
      "2 (100, 200]\n",
      "2 (200, 300]\n",
      "2 (300, 400]\n",
      "2 (400, 500]\n",
      "2 (500, 600]\n",
      "87 (0, 100]\n",
      "87 (100, 200]\n",
      "87 (200, 300]\n",
      "87 (300, 400]\n",
      "87 (400, 500]\n",
      "87 (500, 600]\n",
      "298 (0, 100]\n",
      "298 (100, 200]\n",
      "298 (200, 300]\n",
      "298 (300, 400]\n",
      "298 (400, 500]\n",
      "298 (500, 600]\n",
      "81 (0, 100]\n",
      "81 (100, 200]\n",
      "81 (200, 300]\n",
      "81 (300, 400]\n",
      "81 (400, 500]\n",
      "81 (500, 600]\n",
      "96 (0, 100]\n",
      "96 (100, 200]\n",
      "96 (200, 300]\n",
      "96 (300, 400]\n",
      "96 (400, 500]\n",
      "96 (500, 600]\n",
      "346 (0, 100]\n",
      "346 (100, 200]\n",
      "346 (200, 300]\n",
      "346 (300, 400]\n",
      "346 (400, 500]\n",
      "346 (500, 600]\n",
      "66 (0, 100]\n",
      "66 (100, 200]\n",
      "66 (200, 300]\n",
      "66 (300, 400]\n",
      "66 (400, 500]\n",
      "66 (500, 600]\n",
      "245 (0, 100]\n",
      "245 (100, 200]\n",
      "245 (200, 300]\n",
      "245 (300, 400]\n",
      "245 (400, 500]\n",
      "245 (500, 600]\n",
      "158 (0, 100]\n",
      "158 (100, 200]\n",
      "158 (200, 300]\n",
      "158 (300, 400]\n",
      "158 (400, 500]\n",
      "158 (500, 600]\n",
      "545 (0, 100]\n",
      "545 (100, 200]\n",
      "545 (200, 300]\n",
      "545 (300, 400]\n",
      "545 (400, 500]\n",
      "545 (500, 600]\n",
      "398 (0, 100]\n",
      "398 (100, 200]\n",
      "398 (200, 300]\n",
      "398 (300, 400]\n",
      "398 (400, 500]\n",
      "398 (500, 600]\n",
      "138 (0, 100]\n",
      "138 (100, 200]\n",
      "138 (200, 300]\n",
      "138 (300, 400]\n",
      "138 (400, 500]\n",
      "138 (500, 600]\n",
      "273 (0, 100]\n",
      "273 (100, 200]\n",
      "273 (200, 300]\n",
      "273 (300, 400]\n",
      "273 (400, 500]\n",
      "273 (500, 600]\n",
      "317 (0, 100]\n",
      "317 (100, 200]\n",
      "317 (200, 300]\n",
      "317 (300, 400]\n",
      "317 (400, 500]\n",
      "317 (500, 600]\n",
      "72 (0, 100]\n",
      "72 (100, 200]\n",
      "72 (200, 300]\n",
      "72 (300, 400]\n",
      "72 (400, 500]\n",
      "72 (500, 600]\n",
      "55 (0, 100]\n",
      "55 (100, 200]\n",
      "55 (200, 300]\n",
      "55 (300, 400]\n",
      "55 (400, 500]\n",
      "55 (500, 600]\n",
      "572 (0, 100]\n",
      "572 (100, 200]\n",
      "572 (200, 300]\n",
      "572 (300, 400]\n",
      "572 (400, 500]\n",
      "572 (500, 600]\n",
      "277 (0, 100]\n",
      "277 (100, 200]\n",
      "277 (200, 300]\n",
      "277 (300, 400]\n",
      "277 (400, 500]\n",
      "277 (500, 600]\n",
      "240 (0, 100]\n",
      "240 (100, 200]\n",
      "240 (200, 300]\n",
      "240 (300, 400]\n",
      "240 (400, 500]\n",
      "240 (500, 600]\n",
      "17 (0, 100]\n",
      "17 (100, 200]\n",
      "17 (200, 300]\n",
      "17 (300, 400]\n",
      "17 (400, 500]\n",
      "17 (500, 600]\n",
      "217 (0, 100]\n",
      "217 (100, 200]\n",
      "217 (200, 300]\n",
      "217 (300, 400]\n",
      "217 (400, 500]\n",
      "217 (500, 600]\n",
      "210 (0, 100]\n",
      "210 (100, 200]\n",
      "210 (200, 300]\n",
      "210 (300, 400]\n",
      "210 (400, 500]\n",
      "210 (500, 600]\n",
      "225 (0, 100]\n",
      "225 (100, 200]\n",
      "225 (200, 300]\n",
      "225 (300, 400]\n",
      "225 (400, 500]\n",
      "225 (500, 600]\n",
      "467 (0, 100]\n",
      "467 (100, 200]\n",
      "467 (200, 300]\n",
      "467 (300, 400]\n",
      "467 (400, 500]\n",
      "467 (500, 600]\n",
      "28 (0, 100]\n",
      "28 (100, 200]\n",
      "28 (200, 300]\n",
      "28 (300, 400]\n",
      "28 (400, 500]\n",
      "28 (500, 600]\n",
      "277 (0, 100]\n",
      "277 (100, 200]\n",
      "277 (200, 300]\n",
      "277 (300, 400]\n",
      "277 (400, 500]\n",
      "277 (500, 600]\n",
      "582 (0, 100]\n",
      "582 (100, 200]\n",
      "582 (200, 300]\n",
      "582 (300, 400]\n",
      "582 (400, 500]\n",
      "582 (500, 600]\n",
      "151 (0, 100]\n",
      "151 (100, 200]\n",
      "151 (200, 300]\n",
      "151 (300, 400]\n",
      "151 (400, 500]\n",
      "151 (500, 600]\n"
     ]
    }
   ],
   "source": [
    "for p in wnba[\"PTS\"]:\n",
    "    for i in interval:\n",
    "        print(p,i)"
   ]
  },
  {
   "cell_type": "code",
   "execution_count": 72,
   "metadata": {},
   "outputs": [],
   "source": [
    "for p in wnba[\"PTS\"]:\n",
    "    for i in interval:\n",
    "        if p in i:\n",
    "            pts.loc[i]+=1\n",
    "            break\n",
    "        "
   ]
  },
  {
   "cell_type": "code",
   "execution_count": 73,
   "metadata": {},
   "outputs": [
    {
     "data": {
      "text/plain": [
       "(0, 100]      49\n",
       "(100, 200]    28\n",
       "(200, 300]    32\n",
       "(300, 400]    17\n",
       "(400, 500]    10\n",
       "(500, 600]     7\n",
       "dtype: int64"
      ]
     },
     "execution_count": 73,
     "metadata": {},
     "output_type": "execute_result"
    }
   ],
   "source": [
    "pts"
   ]
  },
  {
   "cell_type": "code",
   "execution_count": 74,
   "metadata": {},
   "outputs": [
    {
     "data": {
      "text/plain": [
       "143"
      ]
     },
     "execution_count": 74,
     "metadata": {},
     "output_type": "execute_result"
    }
   ],
   "source": [
    "49+28+32+17+10+7\n"
   ]
  },
  {
   "cell_type": "code",
   "execution_count": 76,
   "metadata": {},
   "outputs": [
    {
     "data": {
      "text/plain": [
       "100.0"
      ]
     },
     "execution_count": 76,
     "metadata": {},
     "output_type": "execute_result"
    }
   ],
   "source": [
    "600/6 \n",
    "#interval size"
   ]
  },
  {
   "cell_type": "code",
   "execution_count": 77,
   "metadata": {},
   "outputs": [
    {
     "data": {
      "text/plain": [
       "60.0"
      ]
     },
     "execution_count": 77,
     "metadata": {},
     "output_type": "execute_result"
    }
   ],
   "source": [
    "600/10\n",
    "#best 10 bins"
   ]
  },
  {
   "cell_type": "code",
   "execution_count": null,
   "metadata": {},
   "outputs": [],
   "source": []
  }
 ],
 "metadata": {
  "kernelspec": {
   "display_name": "Python 3",
   "language": "python",
   "name": "python3"
  },
  "language_info": {
   "codemirror_mode": {
    "name": "ipython",
    "version": 3
   },
   "file_extension": ".py",
   "mimetype": "text/x-python",
   "name": "python",
   "nbconvert_exporter": "python",
   "pygments_lexer": "ipython3",
   "version": "3.8.5"
  }
 },
 "nbformat": 4,
 "nbformat_minor": 4
}
