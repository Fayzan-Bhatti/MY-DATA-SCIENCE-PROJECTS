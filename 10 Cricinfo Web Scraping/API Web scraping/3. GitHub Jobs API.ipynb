{
 "cells": [
  {
   "cell_type": "code",
   "execution_count": 8,
   "metadata": {},
   "outputs": [],
   "source": [
    "# https://jobs.github.com/api\n",
    "\n",
    "\n",
    "import requests\n",
    "import json"
   ]
  },
  {
   "cell_type": "code",
   "execution_count": 9,
   "metadata": {},
   "outputs": [],
   "source": [
    "base_site = \"https://jobs.github.com/positions.json\""
   ]
  },
  {
   "cell_type": "code",
   "execution_count": 10,
   "metadata": {},
   "outputs": [
    {
     "data": {
      "text/plain": [
       "True"
      ]
     },
     "execution_count": 10,
     "metadata": {},
     "output_type": "execute_result"
    }
   ],
   "source": [
    "r  = requests.get(base_site, params = {\"description\":\"data science\",\"location\":\"new york\"})\n",
    "r.ok"
   ]
  },
  {
   "cell_type": "code",
   "execution_count": 11,
   "metadata": {},
   "outputs": [
    {
     "data": {
      "text/plain": [
       "[{'id': '21d9e0e2-9b9a-4c7d-8c0c-26871b0bb7a6',\n",
       "  'type': 'Full Time',\n",
       "  'url': 'https://jobs.github.com/positions/21d9e0e2-9b9a-4c7d-8c0c-26871b0bb7a6',\n",
       "  'created_at': 'Thu Apr 01 19:07:46 UTC 2021',\n",
       "  'company': 'Thorlabs',\n",
       "  'company_url': 'https://www.thorlabs.com/',\n",
       "  'location': '07860',\n",
       "  'title': 'Mid-Level SQL Server Data Engineer',\n",
       "  'description': '<p>Looking for an experienced dynamic SQL Server Database Administrator/Engineer, with deep knowledge and broad experience of MS SQL and Azure Cloud skills to join our Database Engineering team at Thorlabs. We are a fast-paced and growing group that manages the complete data needs of the firm. Primary role of this position will be to cover all aspects of data needs in the organization, production system support and troubleshooting, implementing database systems, setup database monitoring, implement Disaster recovery Strategies, project planning, developing documentation and runbooks. This person will be part of a group rotation providing weekend on-call support.</p>\\n<p>Essential Job Functions include the following, but are not limited to:</p>\\n<ul>\\n<li>Conduct monitoring, maintenance and development of our database solutions on-prem and Azure; including business critical reporting and BI systems.</li>\\n<li>Troubleshoot technical issues and identify modifications needed in existing applications to meet changing user requirements. Research and troubleshoot data pipeline questions.</li>\\n<li>Manage and maintain optimal performance of business critical applications, including Dynamics AX.</li>\\n<li>Manage security role, Role base access, authentication and authorization of users accessing various database systems.</li>\\n<li>Would require understanding manufacturing and lean processes to execute some functional specifications</li>\\n<li>Develop and implement Disaster Recovery (DR) strategies, high availability and backup restore schedules.</li>\\n<li>Develop and optimize queries to increase efficiency in our systems</li>\\n<li>Collaborate on problem resolution, team decisions and project planning.</li>\\n<li>Build fail-proof data pipelines (ETL) to move data between different systems while maintaining integrity using Azure tools and cloud-based ETL development processes.</li>\\n<li>Experience connecting to varied data sources, on-prem and cloud.</li>\\n<li>Excellent SQL coding experience with performance optimization for data queries.</li>\\n<li>Understands different data models like normalized, de-normalized, stars, and snowflake models. Working experience with transactional, temporal, time series, and structured and unstructured data, AzureDataLake is a plus.</li>\\n<li>Working experience with MPP DWH system like Azure synapse is highly desirable.</li>\\n<li>Experience in deployment and maintenance of ETL Jobs.</li>\\n<li>Is familiar with the reporting tools like Power Bi and SSRS or any other.</li>\\n</ul>\\n<p>Qualifications</p>\\n<p>Experience:</p>\\n<ul>\\n<li>5+ years’ experience</li>\\n</ul>\\n<p>Education:</p>\\n<ul>\\n<li>Bachelor’s degree in Engineering/Science, or equivalent work experience</li>\\n</ul>\\n<p>Specialized Knowledge and Skills:</p>\\n<ul>\\n<li>SQL: clustering, mirroring, replication, scripting, stored procedures, functions, performance tuning and trouble shooting.</li>\\n<li>Azure: Azure Data Factory, Azure SQL database, Azure Synapse, Databricks, Azure Analysis Services, Azure DataLake storage</li>\\n<li>Reporting Tools: Power Bi, SSRS</li>\\n<li>Languages: TSQL, Python, PowerShell, JSON, Pyspark</li>\\n<li>Data modelling: Tabular model, Star Schema, Columnar modelling</li>\\n</ul>\\n<p>Thorlabs values its diverse environment and is proud to be an Equal Employment Opportunity/Affirmative Action Employer. All qualified individuals will receive consideration for employment without regard to race, color, religion, gender, gender identity or expression, sexual orientation, national origin, genetics, disability, age or veteran status. Job descriptions are not intended as and do not create employment contracts. The organization maintains its status as an at-will employer. Employees can be terminated for any reason not prohibited by law.</p>\\n',\n",
       "  'how_to_apply': '<p>Please  be sure to complete an application on the Company\\'s career site for consideration. Direct link below:</p>\\n<p><a href=\"https://recruiting.myapps.paychex.com/appone/MainInfoReq.asp?R_ID=3392010\">https://recruiting.myapps.paychex.com/appone/MainInfoReq.asp?R_ID=3392010</a></p>\\n',\n",
       "  'company_logo': 'https://jobs.github.com/rails/active_storage/blobs/eyJfcmFpbHMiOnsibWVzc2FnZSI6IkJBaHBBb1NmIiwiZXhwIjpudWxsLCJwdXIiOiJibG9iX2lkIn19--3c8771d67e8b937cccead21303ae98dfa0f14420/Company%20Logo.jpg'},\n",
       " {'id': '353b2b8f-55c6-44b2-976e-2089c9503e22',\n",
       "  'type': 'Full Time',\n",
       "  'url': 'https://jobs.github.com/positions/353b2b8f-55c6-44b2-976e-2089c9503e22',\n",
       "  'created_at': 'Thu Apr 01 18:54:05 UTC 2021',\n",
       "  'company': 'Thorlabs',\n",
       "  'company_url': 'https://www.thorlabs.com/',\n",
       "  'location': '07860',\n",
       "  'title': 'Enterprise Data Architect',\n",
       "  'description': '<p>The Enterprise Data Architect (EDA) primary goal is to keep data easily accessible and accurate. To meet that goal, the EDA reviews, refines and implements data standards. Examples of data standards include those that define how data is categorized or how codes are assigned to represent specific products, customers and other data types. Gathering information about data use in the workplace, the architect creates a blueprint or road map, showing processes and services that affect data use and data standards. The architect works with project managers and business stakeholders to implement that design.</p>\\n<p>The EDA is further expected to act as the team leader for the global DBA resources and provide them daily technical guidance and management. The role as EDA is hands on, relishing learning, provide guidance and create value added services for a data hungry organization\\nAlthough the location of the position is in Newton, NJ, from time to time it may be required to undertake duties at other ThorLabs locations.</p>\\n<p>Essential Job Functions include the following, but are not limited to:</p>\\n<ul>\\n<li>The EDA works with teams to solve business data problems.</li>\\n<li>The EDA develops data modeling methods, databases, data warehouses, data lakes, master data and metadata.</li>\\n<li>The EDA acts as a data evangelist to address business process improvement with users in finance, purchasing, quality, human resources and other departments.\\nIn addition to the essential functions and duties listed above, all positions are also responsible for:</li>\\n<li>Meeting company standards pertaining to quantity and quality of work performed on an ongoing basis, performing all work related tasks in a manner that is in compliance with all Company policies and procedures.</li>\\n<li>Adhering to Company policies, procedures, and directives regarding standards of workplace behavior in completing job duties and assignments.</li>\\n</ul>\\n<p>The Company retains the right to change or assign other duties to this position.</p>\\n<p>Physical Activities:</p>\\n<ul>\\n<li>This is largely a sedentary role; however, some filing is required. This would require the ability to lift files, open filing cabinets and bend or stand as necessary.</li>\\n</ul>\\n<p>Experience:</p>\\n<ul>\\n<li>10+ years of experience in database design, data warehousing and data modeling</li>\\n</ul>\\n<p>Education:</p>\\n<ul>\\n<li>Bachelor’s degree in Engineering/Science, or equivalent work experience.</li>\\n</ul>\\n<p>Specialized Knowledge and Skills:</p>\\n<ul>\\n<li>Prior experience as DBA architect</li>\\n<li>Experience with the MS SQL stack - SSIS, SSAS, SSRS, Azure Synapse, Azure Analysis Services etc.</li>\\n<li>Knowledge of ERP system databases, preferable MS Dynamics/Axapta.</li>\\n<li>Comes from a mixed heterogeneous SQL environment</li>\\n<li>Knowledge of project management</li>\\n<li>Experience with data modeling software</li>\\n<li>Experience with migrating to cloud, preferably Azure</li>\\n<li>Communicate directly with users, speaking in terms they understand</li>\\n<li>Should have good business knowledge and be able to explain technical concepts without using complex, technical terms.</li>\\n</ul>\\n<p>Thorlabs values its diverse environment and is proud to be an Equal Employment Opportunity/Affirmative Action employer. All qualified individuals will receive consideration for employment without regard to race, color, religion, gender, gender identify or expression, sexual orientation, national origin, genetics, disability, age or veteran status. Job descriptions are not intended as and do not create employment contracts. The organization maintains its status as an at-will employer. Employees can be terminated for any reason not prohibited by law.</p>\\n',\n",
       "  'how_to_apply': '<p>Please be sure to complete an application on the Company\\'s career site for consideration. Direct link below:</p>\\n<p><a href=\"https://recruiting.myapps.paychex.com/appone/MainInfoReq.asp?R_ID=3429023\">https://recruiting.myapps.paychex.com/appone/MainInfoReq.asp?R_ID=3429023</a></p>\\n',\n",
       "  'company_logo': 'https://jobs.github.com/rails/active_storage/blobs/eyJfcmFpbHMiOnsibWVzc2FnZSI6IkJBaHBBb0dmIiwiZXhwIjpudWxsLCJwdXIiOiJibG9iX2lkIn19--28374c4e5671b119cc2a94db42e38ceca515a16b/Company%20Logo.jpg'}]"
      ]
     },
     "execution_count": 11,
     "metadata": {},
     "output_type": "execute_result"
    }
   ],
   "source": [
    "r.json()"
   ]
  },
  {
   "cell_type": "code",
   "execution_count": 12,
   "metadata": {},
   "outputs": [
    {
     "data": {
      "text/plain": [
       "True"
      ]
     },
     "execution_count": 12,
     "metadata": {},
     "output_type": "execute_result"
    }
   ],
   "source": [
    "r  = requests.get(base_site, params = {\"page\":1})\n",
    "r.ok"
   ]
  },
  {
   "cell_type": "code",
   "execution_count": 13,
   "metadata": {},
   "outputs": [
    {
     "data": {
      "text/plain": [
       "50"
      ]
     },
     "execution_count": 13,
     "metadata": {},
     "output_type": "execute_result"
    }
   ],
   "source": [
    "len(r.json())"
   ]
  },
  {
   "cell_type": "code",
   "execution_count": 14,
   "metadata": {},
   "outputs": [
    {
     "data": {
      "text/plain": [
       "50"
      ]
     },
     "execution_count": 14,
     "metadata": {},
     "output_type": "execute_result"
    }
   ],
   "source": [
    "r  = requests.get(base_site, params = {\"page\":2})\n",
    "r.ok\n",
    "len(r.json())"
   ]
  },
  {
   "cell_type": "code",
   "execution_count": 15,
   "metadata": {},
   "outputs": [
    {
     "data": {
      "text/plain": [
       "0"
      ]
     },
     "execution_count": 15,
     "metadata": {},
     "output_type": "execute_result"
    }
   ],
   "source": [
    "r  = requests.get(base_site, params = {\"page\":6})\n",
    "r.ok\n",
    "len(r.json())"
   ]
  },
  {
   "cell_type": "code",
   "execution_count": 16,
   "metadata": {},
   "outputs": [],
   "source": [
    "# Extracting result from multiple Pages"
   ]
  },
  {
   "cell_type": "code",
   "execution_count": 17,
   "metadata": {},
   "outputs": [],
   "source": [
    "result = []"
   ]
  },
  {
   "cell_type": "code",
   "execution_count": 18,
   "metadata": {},
   "outputs": [],
   "source": [
    "for i in range(10):\n",
    "    r = requests.get(base_site, params = {\"page\":i+1})\n",
    "    if len(r.json()) == 0:\n",
    "        break\n",
    "    else:\n",
    "        result.extend(r.json())"
   ]
  },
  {
   "cell_type": "raw",
   "metadata": {},
   "source": [
    "lst = []\n",
    "lst.append(\"data sci\")\n",
    "lst"
   ]
  },
  {
   "cell_type": "code",
   "execution_count": 21,
   "metadata": {},
   "outputs": [
    {
     "ename": "NameError",
     "evalue": "name 'lst' is not defined",
     "output_type": "error",
     "traceback": [
      "\u001b[1;31m---------------------------------------------------------------------------\u001b[0m",
      "\u001b[1;31mNameError\u001b[0m                                 Traceback (most recent call last)",
      "\u001b[1;32m<ipython-input-21-8d78d2a0b1ae>\u001b[0m in \u001b[0;36m<module>\u001b[1;34m\u001b[0m\n\u001b[1;32m----> 1\u001b[1;33m \u001b[0mlst\u001b[0m\u001b[1;33m.\u001b[0m\u001b[0mextend\u001b[0m\u001b[1;33m(\u001b[0m\u001b[1;33m[\u001b[0m\u001b[1;34m\"python\"\u001b[0m\u001b[1;33m,\u001b[0m\u001b[1;34m\"java\"\u001b[0m\u001b[1;33m]\u001b[0m\u001b[1;33m)\u001b[0m\u001b[1;33m\u001b[0m\u001b[1;33m\u001b[0m\u001b[0m\n\u001b[0m\u001b[0;32m      2\u001b[0m \u001b[0mlst\u001b[0m\u001b[1;33m\u001b[0m\u001b[1;33m\u001b[0m\u001b[0m\n",
      "\u001b[1;31mNameError\u001b[0m: name 'lst' is not defined"
     ]
    }
   ],
   "source": [
    "lst.extend([\"python\",\"java\"])\n",
    "lst"
   ]
  },
  {
   "cell_type": "code",
   "execution_count": 22,
   "metadata": {},
   "outputs": [
    {
     "data": {
      "text/plain": [
       "226"
      ]
     },
     "execution_count": 22,
     "metadata": {},
     "output_type": "execute_result"
    }
   ],
   "source": [
    "len(result)"
   ]
  },
  {
   "cell_type": "code",
   "execution_count": 23,
   "metadata": {},
   "outputs": [],
   "source": [
    "import pandas as pd"
   ]
  },
  {
   "cell_type": "code",
   "execution_count": 24,
   "metadata": {},
   "outputs": [
    {
     "data": {
      "text/html": [
       "<div>\n",
       "<style scoped>\n",
       "    .dataframe tbody tr th:only-of-type {\n",
       "        vertical-align: middle;\n",
       "    }\n",
       "\n",
       "    .dataframe tbody tr th {\n",
       "        vertical-align: top;\n",
       "    }\n",
       "\n",
       "    .dataframe thead th {\n",
       "        text-align: right;\n",
       "    }\n",
       "</style>\n",
       "<table border=\"1\" class=\"dataframe\">\n",
       "  <thead>\n",
       "    <tr style=\"text-align: right;\">\n",
       "      <th></th>\n",
       "      <th>id</th>\n",
       "      <th>type</th>\n",
       "      <th>url</th>\n",
       "      <th>created_at</th>\n",
       "      <th>company</th>\n",
       "      <th>company_url</th>\n",
       "      <th>location</th>\n",
       "      <th>title</th>\n",
       "      <th>description</th>\n",
       "      <th>how_to_apply</th>\n",
       "      <th>company_logo</th>\n",
       "    </tr>\n",
       "  </thead>\n",
       "  <tbody>\n",
       "    <tr>\n",
       "      <th>0</th>\n",
       "      <td>98b06bf7-df44-4c18-937f-bbb68116398b</td>\n",
       "      <td>Full Time</td>\n",
       "      <td>https://jobs.github.com/positions/98b06bf7-df4...</td>\n",
       "      <td>Mon Apr 26 16:03:55 UTC 2021</td>\n",
       "      <td>lawpilots GmbH</td>\n",
       "      <td>https://www.lawpilots.com/de-de/</td>\n",
       "      <td>Berlin</td>\n",
       "      <td>Software Developer (Backend / Infrastructure) ...</td>\n",
       "      <td>&lt;p&gt;&lt;strong&gt;Intro&lt;/strong&gt;&lt;/p&gt;\\n&lt;p&gt;Join us in B...</td>\n",
       "      <td>&lt;p&gt;&lt;a href=\"https://t.gohiring.com/h/7f4270014...</td>\n",
       "      <td>https://jobs.github.com/rails/active_storage/b...</td>\n",
       "    </tr>\n",
       "    <tr>\n",
       "      <th>1</th>\n",
       "      <td>d0afa0c1-2ff5-4bb4-acc6-911eb06a2013</td>\n",
       "      <td>Contract</td>\n",
       "      <td>https://jobs.github.com/positions/d0afa0c1-2ff...</td>\n",
       "      <td>Mon Apr 26 15:33:08 UTC 2021</td>\n",
       "      <td>Fullstack</td>\n",
       "      <td>http:</td>\n",
       "      <td>Anywhere</td>\n",
       "      <td>React Native Engineer</td>\n",
       "      <td>&lt;p&gt;&lt;strong&gt;React Native Mobile Engineer&lt;/stron...</td>\n",
       "      <td>&lt;p&gt;Complete the online application at &lt;a href=...</td>\n",
       "      <td>https://jobs.github.com/rails/active_storage/b...</td>\n",
       "    </tr>\n",
       "    <tr>\n",
       "      <th>2</th>\n",
       "      <td>19917880-abc4-4f57-a9e3-27280d430fcc</td>\n",
       "      <td>Full Time</td>\n",
       "      <td>https://jobs.github.com/positions/19917880-abc...</td>\n",
       "      <td>Mon Apr 26 14:06:23 UTC 2021</td>\n",
       "      <td>smartmicro</td>\n",
       "      <td>https://www.smartmicro.com</td>\n",
       "      <td>Brunswick, Braunschweig, Germany</td>\n",
       "      <td>C++ Developer (m/w/d)</td>\n",
       "      <td>&lt;p&gt;smartmicro entwickelt Radarsensoren für aut...</td>\n",
       "      <td>&lt;p&gt;&lt;a href=\"https://smartmicro.join.com/jobs/2...</td>\n",
       "      <td>https://jobs.github.com/rails/active_storage/b...</td>\n",
       "    </tr>\n",
       "    <tr>\n",
       "      <th>3</th>\n",
       "      <td>01e82177-cb13-4026-bbc3-c309765347e2</td>\n",
       "      <td>Full Time</td>\n",
       "      <td>https://jobs.github.com/positions/01e82177-cb1...</td>\n",
       "      <td>Mon Apr 26 12:50:24 UTC 2021</td>\n",
       "      <td>Kontist GmbH</td>\n",
       "      <td>https://kontist.com/home/?mrasn=702727.872066....</td>\n",
       "      <td>Berlin</td>\n",
       "      <td>Senior JavaScript Developer (f/m/x)</td>\n",
       "      <td>&lt;p&gt;Do you know how many obstacles freelancers ...</td>\n",
       "      <td>&lt;p&gt;&lt;a href=\"https://kontist.join.com/jobs/2133...</td>\n",
       "      <td>https://jobs.github.com/rails/active_storage/b...</td>\n",
       "    </tr>\n",
       "    <tr>\n",
       "      <th>4</th>\n",
       "      <td>33fa9582-fbd3-4735-b1f2-dd9d978e2549</td>\n",
       "      <td>Full Time</td>\n",
       "      <td>https://jobs.github.com/positions/33fa9582-fbd...</td>\n",
       "      <td>Sun Apr 25 04:44:57 UTC 2021</td>\n",
       "      <td>DevStar Jobs</td>\n",
       "      <td>https://devstarjobs.com</td>\n",
       "      <td>Nashville, TN</td>\n",
       "      <td>Senior Engineer Ruby on Rails</td>\n",
       "      <td>&lt;p&gt;Be part of a great team building the next g...</td>\n",
       "      <td>&lt;p&gt;Email CV and GitHub username to &lt;a href=\"ma...</td>\n",
       "      <td>None</td>\n",
       "    </tr>\n",
       "  </tbody>\n",
       "</table>\n",
       "</div>"
      ],
      "text/plain": [
       "                                     id       type  \\\n",
       "0  98b06bf7-df44-4c18-937f-bbb68116398b  Full Time   \n",
       "1  d0afa0c1-2ff5-4bb4-acc6-911eb06a2013   Contract   \n",
       "2  19917880-abc4-4f57-a9e3-27280d430fcc  Full Time   \n",
       "3  01e82177-cb13-4026-bbc3-c309765347e2  Full Time   \n",
       "4  33fa9582-fbd3-4735-b1f2-dd9d978e2549  Full Time   \n",
       "\n",
       "                                                 url  \\\n",
       "0  https://jobs.github.com/positions/98b06bf7-df4...   \n",
       "1  https://jobs.github.com/positions/d0afa0c1-2ff...   \n",
       "2  https://jobs.github.com/positions/19917880-abc...   \n",
       "3  https://jobs.github.com/positions/01e82177-cb1...   \n",
       "4  https://jobs.github.com/positions/33fa9582-fbd...   \n",
       "\n",
       "                     created_at         company  \\\n",
       "0  Mon Apr 26 16:03:55 UTC 2021  lawpilots GmbH   \n",
       "1  Mon Apr 26 15:33:08 UTC 2021       Fullstack   \n",
       "2  Mon Apr 26 14:06:23 UTC 2021      smartmicro   \n",
       "3  Mon Apr 26 12:50:24 UTC 2021    Kontist GmbH   \n",
       "4  Sun Apr 25 04:44:57 UTC 2021    DevStar Jobs   \n",
       "\n",
       "                                         company_url  \\\n",
       "0                   https://www.lawpilots.com/de-de/   \n",
       "1                                              http:   \n",
       "2                         https://www.smartmicro.com   \n",
       "3  https://kontist.com/home/?mrasn=702727.872066....   \n",
       "4                            https://devstarjobs.com   \n",
       "\n",
       "                           location  \\\n",
       "0                            Berlin   \n",
       "1                          Anywhere   \n",
       "2  Brunswick, Braunschweig, Germany   \n",
       "3                            Berlin   \n",
       "4                     Nashville, TN   \n",
       "\n",
       "                                               title  \\\n",
       "0  Software Developer (Backend / Infrastructure) ...   \n",
       "1                              React Native Engineer   \n",
       "2                              C++ Developer (m/w/d)   \n",
       "3                Senior JavaScript Developer (f/m/x)   \n",
       "4                      Senior Engineer Ruby on Rails   \n",
       "\n",
       "                                         description  \\\n",
       "0  <p><strong>Intro</strong></p>\\n<p>Join us in B...   \n",
       "1  <p><strong>React Native Mobile Engineer</stron...   \n",
       "2  <p>smartmicro entwickelt Radarsensoren für aut...   \n",
       "3  <p>Do you know how many obstacles freelancers ...   \n",
       "4  <p>Be part of a great team building the next g...   \n",
       "\n",
       "                                        how_to_apply  \\\n",
       "0  <p><a href=\"https://t.gohiring.com/h/7f4270014...   \n",
       "1  <p>Complete the online application at <a href=...   \n",
       "2  <p><a href=\"https://smartmicro.join.com/jobs/2...   \n",
       "3  <p><a href=\"https://kontist.join.com/jobs/2133...   \n",
       "4  <p>Email CV and GitHub username to <a href=\"ma...   \n",
       "\n",
       "                                        company_logo  \n",
       "0  https://jobs.github.com/rails/active_storage/b...  \n",
       "1  https://jobs.github.com/rails/active_storage/b...  \n",
       "2  https://jobs.github.com/rails/active_storage/b...  \n",
       "3  https://jobs.github.com/rails/active_storage/b...  \n",
       "4                                               None  "
      ]
     },
     "execution_count": 24,
     "metadata": {},
     "output_type": "execute_result"
    }
   ],
   "source": [
    "result = pd.DataFrame(result)\n",
    "result.head()"
   ]
  },
  {
   "cell_type": "code",
   "execution_count": 25,
   "metadata": {},
   "outputs": [],
   "source": [
    "result.to_csv(\"github_jobs.csv\")"
   ]
  },
  {
   "cell_type": "code",
   "execution_count": null,
   "metadata": {},
   "outputs": [],
   "source": []
  }
 ],
 "metadata": {
  "kernelspec": {
   "display_name": "Python 3",
   "language": "python",
   "name": "python3"
  },
  "language_info": {
   "codemirror_mode": {
    "name": "ipython",
    "version": 3
   },
   "file_extension": ".py",
   "mimetype": "text/x-python",
   "name": "python",
   "nbconvert_exporter": "python",
   "pygments_lexer": "ipython3",
   "version": "3.8.5"
  }
 },
 "nbformat": 4,
 "nbformat_minor": 4
}
